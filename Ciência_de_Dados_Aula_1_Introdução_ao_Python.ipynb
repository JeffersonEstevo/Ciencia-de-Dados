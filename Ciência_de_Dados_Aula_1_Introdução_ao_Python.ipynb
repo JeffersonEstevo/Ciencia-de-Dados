{
  "cells": [
    {
      "cell_type": "markdown",
      "metadata": {
        "id": "view-in-github",
        "colab_type": "text"
      },
      "source": [
        "<a href=\"https://colab.research.google.com/github/JeffersonEstevo/Ciencia-de-Dados/blob/main/Ci%C3%AAncia_de_Dados_Aula_1_Introdu%C3%A7%C3%A3o_ao_Python.ipynb\" target=\"_parent\"><img src=\"https://colab.research.google.com/assets/colab-badge.svg\" alt=\"Open In Colab\"/></a>"
      ]
    },
    {
      "cell_type": "markdown",
      "metadata": {
        "id": "TCltJbrPWtqT"
      },
      "source": [
        "# Disciplina: Ciência de Dados (DCA-0131)\n",
        "Prof. Luiz Affonso Guedes\n",
        "\n",
        "Departamento de Engenharia de Computação e Automação - DCA\n",
        "\n",
        "UFRN -  2023\n",
        "\n",
        "*OBS: Favor fazer cópia do notebook antes de alterá-lo."
      ]
    },
    {
      "cell_type": "markdown",
      "metadata": {
        "id": "8aBKG2iUWtqa"
      },
      "source": [
        "# Aula 1- Introdução à Linguagem Python\n",
        "\n",
        "Objetivo: apresentação das funcionalidades básicas da linguagem Python\n",
        "\n",
        "\n",
        "Conteúdo:\n",
        "- Caracterização da Linguagem Python\n",
        "- Vantagens\n",
        "- Entrada e saída de dados\n",
        "- Variáveis básicas\n",
        "- Cálculos básicos\n",
        "- Variável tipo lista\n",
        "- Funções e Classes\n",
        "- Importação de pacotes"
      ]
    },
    {
      "cell_type": "markdown",
      "metadata": {
        "id": "ZwGg2YRmWtqc"
      },
      "source": [
        "- Python é uma linguagem de propósito geral - às vezes referida como utilitária - que é projetada para ser simples de ler e escrever. O seu objetivo é ser uma linguagem simples, porém completa.\n",
        "- É uma linguagem interpretada não tipada.\n",
        "- É uma liguagem estruturada, mas possui suporte a orientação a objetos.\n"
      ]
    },
    {
      "cell_type": "markdown",
      "metadata": {
        "id": "8yf95fqwWtqe"
      },
      "source": [
        "Uma introdução aos conceitos básicos de Python. Saiba como usar o Python de forma interativa e através de um script. Crie suas primeiras variáveis e familiarize-se com os tipos básicos de dados do Python."
      ]
    },
    {
      "cell_type": "markdown",
      "metadata": {
        "id": "bvJ3kBLoO0jt"
      },
      "source": [
        "## Entrada e Saída de Dados em Python\n",
        "\n",
        "print (......)\n",
        "\n",
        "input()\n"
      ]
    },
    {
      "cell_type": "code",
      "execution_count": null,
      "metadata": {
        "id": "93GQJAx1Wtqg",
        "colab": {
          "base_uri": "https://localhost:8080/"
        },
        "outputId": "ee6dd5f7-72aa-40de-e5ea-7ae747b1bffc"
      },
      "outputs": [
        {
          "output_type": "stream",
          "name": "stdout",
          "text": [
            "Alô, mundo!\n"
          ]
        }
      ],
      "source": [
        "# Comentário em Python\n",
        "# Imprimir mensagem em Python\n",
        "print(\"Alô, mundo!\")"
      ]
    },
    {
      "cell_type": "code",
      "execution_count": null,
      "metadata": {
        "colab": {
          "base_uri": "https://localhost:8080/"
        },
        "id": "aBytQrmlFdRZ",
        "outputId": "1959f81d-21b2-4129-ad66-2e42e7181ed3"
      },
      "outputs": [
        {
          "output_type": "stream",
          "name": "stdout",
          "text": [
            "Quem é esta aluna que acabou de chegar?\n",
            "É a Juliana.\n"
          ]
        }
      ],
      "source": [
        "print(\"Quem é esta aluna que acabou de chegar?\")\n",
        "print(\"É a Juliana.\")"
      ]
    },
    {
      "cell_type": "code",
      "execution_count": null,
      "metadata": {
        "id": "kugXUPx-PYP-",
        "colab": {
          "base_uri": "https://localhost:8080/"
        },
        "outputId": "7da35afb-6200-438a-cfa9-842c8467b6be"
      },
      "outputs": [
        {
          "output_type": "stream",
          "name": "stdout",
          "text": [
            "Qual é o seu nome? \n",
            "Jefferson\n",
            "Olá Jefferson, tudo bem?\n"
          ]
        }
      ],
      "source": [
        "print(\"Qual é o seu nome? \")\n",
        "nome = input()\n",
        "print(\"Olá \" + nome + \", tudo bem?\")"
      ]
    },
    {
      "cell_type": "markdown",
      "metadata": {
        "id": "xNas9M98P0AK"
      },
      "source": [
        "### Crie um programa que:\n",
        "- pegunte o nome da pessoa e sua profissão.\n",
        "\n",
        "- responda com uma mensagem positiva.\n",
        "\n",
        "Exemplo: João, a profissão de Professor é muito importante"
      ]
    },
    {
      "cell_type": "code",
      "execution_count": null,
      "metadata": {
        "colab": {
          "base_uri": "https://localhost:8080/"
        },
        "id": "GFpO_KPVQiBa",
        "outputId": "f0eefd05-f3a0-40da-c23f-ed5dcfa6c4a5"
      },
      "outputs": [
        {
          "output_type": "stream",
          "name": "stdout",
          "text": [
            "Qual é o seu nome?\n",
            "João\n",
            "Qual é a sua profissão?\n",
            "Agente Administrativo\n",
            "João, a tua profissão de Agente Administrativo é muito importante\n"
          ]
        }
      ],
      "source": [
        "# Escreva o codigo aqui:\n",
        "\n",
        "print(\"Qual é o seu nome?\")\n",
        "nome = input()\n",
        "print(\"Qual é a sua profissão?\")\n",
        "profissao = input()\n",
        "print(nome + \", a tua profissão de \" + profissao + \" é muito importante\")\n",
        "\n",
        "\n"
      ]
    },
    {
      "cell_type": "markdown",
      "metadata": {
        "id": "nJZUVSz1rarN"
      },
      "source": [
        "### Exercício 01: \n",
        " Escreva um programa baseado na anterior que pergunte o nome e sobrenome do usário, além do seu hobby. Então responda com um comentário positivo."
      ]
    },
    {
      "cell_type": "code",
      "execution_count": null,
      "metadata": {
        "id": "wRKYoOmUIyIg",
        "colab": {
          "base_uri": "https://localhost:8080/"
        },
        "outputId": "54bb123a-6693-4fa9-9e5a-cf5b78c73e48"
      },
      "outputs": [
        {
          "output_type": "stream",
          "name": "stdout",
          "text": [
            "Qual é o seu nome?\n",
            "Jefferson\n",
            "Qual é o seu sobrenome?\n",
            "Estevo\n",
            "Qual é a seu hobby?\n",
            "Ouvir música\n",
            "Jefferson Estevo, seu hobby Ouvir música é um excelente passatempo!\n"
          ]
        }
      ],
      "source": [
        "# Exercício 01 - Escreva o código aqui\n",
        "print(\"Qual é o seu nome?\")\n",
        "nome = input()\n",
        "print(\"Qual é o seu sobrenome?\")\n",
        "sobrenome = input()\n",
        "print(\"Qual é a seu hobby?\")\n",
        "hobby = input()\n",
        "print(nome + \" \" + sobrenome + \", seu hobby \" + hobby + \" é um excelente passatempo!\")\n"
      ]
    },
    {
      "cell_type": "markdown",
      "metadata": {
        "id": "DzNprIBE61XA"
      },
      "source": [
        "### Usando Python como uma calculadora\n",
        "- basta escrever as operações."
      ]
    },
    {
      "cell_type": "code",
      "execution_count": null,
      "metadata": {
        "id": "XzbL-SxpWtqw",
        "colab": {
          "base_uri": "https://localhost:8080/"
        },
        "outputId": "2159885f-5c80-4f68-9c06-f2f8b51570b7"
      },
      "outputs": [
        {
          "output_type": "execute_result",
          "data": {
            "text/plain": [
              "2"
            ]
          },
          "metadata": {},
          "execution_count": 5
        }
      ],
      "source": [
        "a = 2\n",
        "a"
      ]
    },
    {
      "cell_type": "code",
      "execution_count": null,
      "metadata": {
        "id": "WaR81ydLWtq8",
        "colab": {
          "base_uri": "https://localhost:8080/"
        },
        "outputId": "36925530-c8fe-4cb3-9dc5-984162b4f898"
      },
      "outputs": [
        {
          "output_type": "execute_result",
          "data": {
            "text/plain": [
              "0.6666666666666666"
            ]
          },
          "metadata": {},
          "execution_count": 6
        }
      ],
      "source": [
        "a = 2/3\n",
        "a"
      ]
    },
    {
      "cell_type": "code",
      "execution_count": null,
      "metadata": {
        "id": "YBpzjlHeJ0kc"
      },
      "outputs": [],
      "source": []
    },
    {
      "cell_type": "code",
      "execution_count": null,
      "metadata": {
        "id": "Ejy6y0OF7FYh",
        "colab": {
          "base_uri": "https://localhost:8080/"
        },
        "outputId": "f63eecf9-bc52-4431-9e41-5951e54001aa"
      },
      "outputs": [
        {
          "output_type": "stream",
          "name": "stdout",
          "text": [
            "0.625\n",
            "15\n",
            "17\n"
          ]
        },
        {
          "output_type": "execute_result",
          "data": {
            "text/plain": [
              "3"
            ]
          },
          "metadata": {},
          "execution_count": 8
        }
      ],
      "source": [
        "print(5 / 8)\n",
        "print(3 * 5)\n",
        "print(7 + 10)\n",
        "5 -2"
      ]
    },
    {
      "cell_type": "code",
      "execution_count": null,
      "metadata": {
        "id": "oVKopYtSKLus",
        "colab": {
          "base_uri": "https://localhost:8080/"
        },
        "outputId": "f1304a2c-8abb-4530-fbe0-eb8a5614e138"
      },
      "outputs": [
        {
          "output_type": "execute_result",
          "data": {
            "text/plain": [
              "1.0"
            ]
          },
          "metadata": {},
          "execution_count": 9
        }
      ],
      "source": [
        "(4+2*2)/8"
      ]
    },
    {
      "cell_type": "markdown",
      "metadata": {
        "id": "vARjMusYWtrC"
      },
      "source": [
        "## Operadores Lógicos:\n",
        "    - AND --> &  and\n",
        "    - OR --> | or\n",
        "    - not"
      ]
    },
    {
      "cell_type": "code",
      "execution_count": null,
      "metadata": {
        "id": "z9D_eKS1WtrE",
        "colab": {
          "base_uri": "https://localhost:8080/"
        },
        "outputId": "a1c75e68-0603-46a7-b5d9-6c6c9a88094f"
      },
      "outputs": [
        {
          "output_type": "stream",
          "name": "stdout",
          "text": [
            "False\n",
            "False\n",
            "True\n",
            "True\n",
            "False\n"
          ]
        }
      ],
      "source": [
        "# Exemplo de uso de operadores lógicos\n",
        "\n",
        "a = True\n",
        "b = False\n",
        "print(a and b)\n",
        "print (a & b)\n",
        "print (a or b)\n",
        "print (a | b)\n",
        "print(not a)"
      ]
    },
    {
      "cell_type": "code",
      "execution_count": null,
      "metadata": {
        "id": "0PJytMztLiRI",
        "colab": {
          "base_uri": "https://localhost:8080/"
        },
        "outputId": "db704e72-2818-437e-8aa7-daadb1599960"
      },
      "outputs": [
        {
          "output_type": "stream",
          "name": "stdout",
          "text": [
            "True\n",
            "False\n",
            "False\n",
            "False\n"
          ]
        }
      ],
      "source": [
        "# Outro exemplo\n",
        "print(True and True)\n",
        "print(True and False)\n",
        "print(False and True)\n",
        "print(False and False)\n"
      ]
    },
    {
      "cell_type": "code",
      "execution_count": null,
      "metadata": {
        "id": "wCFd8ht2Nc-R",
        "colab": {
          "base_uri": "https://localhost:8080/"
        },
        "outputId": "5eb4c27b-dacf-4514-d613-b3ba63e3b314"
      },
      "outputs": [
        {
          "output_type": "stream",
          "name": "stdout",
          "text": [
            "True\n",
            "True\n",
            "True\n",
            "False\n"
          ]
        }
      ],
      "source": [
        "# Outro exemplo\n",
        "print(True or True)\n",
        "print(True or False)\n",
        "print(False or True)\n",
        "print(False or False)"
      ]
    },
    {
      "cell_type": "code",
      "execution_count": null,
      "metadata": {
        "id": "FYgNHwpHN8Gy",
        "colab": {
          "base_uri": "https://localhost:8080/"
        },
        "outputId": "0c0df5e5-0702-43b3-8b5b-380aa0f81dd7"
      },
      "outputs": [
        {
          "output_type": "stream",
          "name": "stdout",
          "text": [
            "False\n",
            "True\n",
            "False\n",
            "True\n",
            "False\n",
            "True\n"
          ]
        }
      ],
      "source": [
        "print(not True)\n",
        "print( not False)\n",
        "print(not not False)\n",
        "print(not not not False)\n",
        "print(not not not not False)\n",
        "print(not not not not not False)"
      ]
    },
    {
      "cell_type": "code",
      "execution_count": null,
      "metadata": {
        "id": "YuxDw9zPPaKW",
        "colab": {
          "base_uri": "https://localhost:8080/"
        },
        "outputId": "be756a8a-06fd-4027-ab5a-a361bdbfb789"
      },
      "outputs": [
        {
          "output_type": "stream",
          "name": "stdout",
          "text": [
            "True\n"
          ]
        }
      ],
      "source": [
        "a= True\n",
        "b = False\n",
        "c = True\n",
        "\n",
        "resposta = (a or b) and c\n",
        "print(resposta)"
      ]
    },
    {
      "cell_type": "code",
      "execution_count": null,
      "metadata": {
        "id": "AgzcLPIVQn7k",
        "colab": {
          "base_uri": "https://localhost:8080/"
        },
        "outputId": "3fec7f7b-9a4d-4dca-a13b-a3e3ebac8bd2"
      },
      "outputs": [
        {
          "output_type": "stream",
          "name": "stdout",
          "text": [
            "True\n"
          ]
        }
      ],
      "source": [
        "# Desafio\n",
        "a= True\n",
        "b = False\n",
        "c = True\n",
        "d= True\n",
        "e = True\n",
        "resposta = (a or b) and ((c and d) or e)\n",
        "print(resposta)\n"
      ]
    },
    {
      "cell_type": "code",
      "execution_count": null,
      "metadata": {
        "id": "eQaY6GhzBnMN",
        "colab": {
          "base_uri": "https://localhost:8080/"
        },
        "outputId": "88b096de-c7d0-4d54-bce5-06aab7e659a8"
      },
      "outputs": [
        {
          "output_type": "stream",
          "name": "stdout",
          "text": [
            "João é um namorado ideal?\n",
            "resposta:  False\n",
            "João é um namorado possível?\n",
            "resposta:  True\n"
          ]
        }
      ],
      "source": [
        "# Exemplo de uso de operadores lógicos\n",
        "# Escolha do namorado(a) ideal\n",
        "\n",
        "nome = \"João\"\n",
        "# nome = \"Maria\"\n",
        "alto = True\n",
        "bonito = True\n",
        "malhado = True\n",
        "rico = True \n",
        "divertido = True\n",
        "careca = True\n",
        "\n",
        "namorado_ideal = alto and bonito and malhado and rico and divertido and not careca\n",
        "\n",
        "print(nome, \"é um namorado ideal?\")\n",
        "print(\"resposta: \", namorado_ideal)\n",
        "\n",
        "# construa a sua lógica de namorado(a) possível\n",
        "\n",
        "namorado_possivel = rico\n",
        "print(nome, \"é um namorado possível?\")\n",
        "print(\"resposta: \", namorado_possivel)"
      ]
    },
    {
      "cell_type": "code",
      "execution_count": null,
      "metadata": {
        "id": "TIvAFDAzWtrM",
        "colab": {
          "base_uri": "https://localhost:8080/"
        },
        "outputId": "f61c279f-ec27-4d8f-8ef5-4b3d3642e4ff"
      },
      "outputs": [
        {
          "output_type": "stream",
          "name": "stdout",
          "text": [
            "a = 10 b = 20\n",
            "alô, mundo Estou estudando Python tenho 24 anos\n"
          ]
        }
      ],
      "source": [
        "# Exemplo de uso do print - outra maneira\n",
        "print (\"a = %d b = %d\" % (10 ,20))\n",
        "print(\"alô, mundo\", \"Estou estudando Python\", \"tenho\", 24, \"anos\")"
      ]
    },
    {
      "cell_type": "markdown",
      "metadata": {
        "id": "lg0_6RP0WtrU"
      },
      "source": [
        "O Python é perfeitamente adequado para fazer cálculos básicos. Além da adição, subtração, multiplicação e divisão, também há suporte para operações mais avançadas, tais como:\n",
        "- Exponenciação: **. \n",
        "   - Este operador eleva o número à esquerda para o poder do número à sua direita. Por exemplo, 4 ** 2 dará 16.\n",
        "- Modulo:%. Este operador retorna o restante da divisão do número à esquerda pelo número à direita. Por exemplo, 18% 7 é igual a 4.\n",
        "- Divisão inteira: //\n",
        "   - 3/2, dará 1."
      ]
    },
    {
      "cell_type": "code",
      "execution_count": null,
      "metadata": {
        "id": "FW1j-ixcWtrW",
        "colab": {
          "base_uri": "https://localhost:8080/"
        },
        "outputId": "651a5e03-a7f6-4971-e245-42fdc6d56ad8"
      },
      "outputs": [
        {
          "output_type": "stream",
          "name": "stdout",
          "text": [
            "16\n",
            "5\n",
            "0\n"
          ]
        }
      ],
      "source": [
        "# Exemplo de uso da Exponenciação\n",
        "print(4 ** 2)\n",
        "\n",
        "\n",
        "\n",
        "# Exemplo de Divisão Inteira\n",
        "print((19+1) // 4)\n",
        "\n",
        "# Exemplo de resto da divisão\n",
        "print((19+1) % 4)\n",
        "\n"
      ]
    },
    {
      "cell_type": "code",
      "execution_count": null,
      "metadata": {
        "id": "EWG-R2vGWtrf",
        "colab": {
          "base_uri": "https://localhost:8080/"
        },
        "outputId": "204f40ee-3b12-4123-9372-4de48dcdc9f1"
      },
      "outputs": [
        {
          "output_type": "stream",
          "name": "stdout",
          "text": [
            "Se você tomou um empréstimo de R$1.000,00 com taxa de juros de 20% ao ano, após 04 anos qual é o valor de sua dívida?\n",
            "Minha dívida é de  2073.6 reais, depois de  4 anos.\n"
          ]
        }
      ],
      "source": [
        "# Exemplo de uso de operadores\n",
        "print(\"Se você tomou um empréstimo de R$1.000,00 com taxa de juros de 20% ao ano, após 04 anos qual é o valor de sua dívida?\")\n",
        "emprestimo = 1000.0\n",
        "taxa = 0.2\n",
        "anos = 4\n",
        "divida = emprestimo *(1+taxa)**anos\n",
        "print(\"Minha dívida é de \", divida, \"reais, depois de \", anos,\"anos.\" )\n"
      ]
    },
    {
      "cell_type": "code",
      "execution_count": null,
      "metadata": {
        "id": "DxKTSL1yWtrt",
        "colab": {
          "base_uri": "https://localhost:8080/"
        },
        "outputId": "5779e4f3-1186-4d32-ef0a-269d8dad881a"
      },
      "outputs": [
        {
          "output_type": "stream",
          "name": "stdout",
          "text": [
            "296.32000000000016\n"
          ]
        }
      ],
      "source": [
        "# Exercício 02: escreva o código aqui\n",
        "# O aluno João Medeiros, aplicou R$2.0000,00 na bolsa de valores durante 03 anos.\n",
        "# No primeiro ano ele teve um lucro de 20%.\n",
        "# No segundo ano ele teve um prejuízo de 8%\n",
        "# No terceiro ano ele teve um lucro de 4%\n",
        "# Calcule o valor em reais que ele obteve no final do terceiro ano.\n",
        "\n",
        "\n",
        "valor_inicial = 2000\n",
        "valor_ano1 = valor_inicial*1.2\n",
        "valor_ano2 = valor_ano1*0.92  #valor_ano1 - valor_ano1*0.08 \n",
        "valor_ano3 = valor_ano2*1.04\n",
        "lucro = valor_ano3 - valor_inicial\n",
        "print(lucro)"
      ]
    },
    {
      "cell_type": "markdown",
      "metadata": {
        "id": "rHFpj7jGWtr1"
      },
      "source": [
        "## Variáveis e Tipos em Python\n",
        "- Em Python, uma variável permite que você se refira a um valor com um nome. Para atribuir um valor a  uma variável use =, como este exemplo:\n",
        "\n",
        "x = 5\n",
        "\n",
        "Agora você pode usar o nome dessa variável, x, em vez do valor real, 5.\n",
        "\n",
        "Lembre-se, = em Python significa atribuição, não igualdade!"
      ]
    },
    {
      "cell_type": "code",
      "execution_count": null,
      "metadata": {
        "id": "_f7iSQckWtr2",
        "colab": {
          "base_uri": "https://localhost:8080/"
        },
        "outputId": "d368f4a3-e30b-4ce0-d509-81ccc62bd6eb"
      },
      "outputs": [
        {
          "output_type": "stream",
          "name": "stdout",
          "text": [
            "5\n",
            "3\n"
          ]
        }
      ],
      "source": [
        "x=5\n",
        "print(x)\n",
        "y = 3\n",
        "print(y)\n"
      ]
    },
    {
      "cell_type": "code",
      "execution_count": null,
      "metadata": {
        "id": "aalFUTUIWtsA",
        "colab": {
          "base_uri": "https://localhost:8080/"
        },
        "outputId": "9ba83175-4e8b-4d82-9638-23f2fdb3471d"
      },
      "outputs": [
        {
          "output_type": "stream",
          "name": "stdout",
          "text": [
            "5\n",
            "10\n",
            "\t 10 \n",
            " \n",
            " 11 \n",
            " 12 \n",
            " 13\n",
            "10\n"
          ]
        }
      ],
      "source": [
        "x = 5\n",
        "print(x)\n",
        "X = 10\n",
        "print(X)\n",
        "valor = 10\n",
        "Valor = 11\n",
        "vAlor = 12\n",
        "VALOR = 13\n",
        "print(\"\\t\", valor,\"\\n\", \"\\n\",Valor, \"\\n\",vAlor, \"\\n\", VALOR)\n",
        "print(valor)"
      ]
    },
    {
      "cell_type": "code",
      "execution_count": null,
      "metadata": {
        "id": "SxEz4XMtWtsH",
        "colab": {
          "base_uri": "https://localhost:8080/"
        },
        "outputId": "b87bad13-043f-4646-a4ca-19048fbec3b5"
      },
      "outputs": [
        {
          "output_type": "stream",
          "name": "stdout",
          "text": [
            "False\n"
          ]
        }
      ],
      "source": [
        "# Diferença entre atribuição e comparação \n",
        "x = 6 +1\n",
        "print( x == 6)\n",
        "\n"
      ]
    },
    {
      "cell_type": "code",
      "execution_count": null,
      "metadata": {
        "id": "LWDgI7rvWtsL",
        "colab": {
          "base_uri": "https://localhost:8080/"
        },
        "outputId": "70d60f4f-27f3-4aec-d62d-f1c2e943aca4"
      },
      "outputs": [
        {
          "output_type": "stream",
          "name": "stdout",
          "text": [
            "Python diferencia entre letras maiúsculas e minúsculas?\n",
            "Qual é o valor da variável x?\n",
            "A variável x é igual a  1\n",
            "Qual é o valor da variável X?\n",
            "A variável X é igual a  2\n"
          ]
        }
      ],
      "source": [
        "#Exemplo - Diferença entre maiúsculo e minúsculo\n",
        "x = 1\n",
        "X = 2\n",
        "\n",
        "print(\"Python diferencia entre letras maiúsculas e minúsculas?\")\n",
        "print(\"Qual é o valor da variável x?\")\n",
        "print(\"A variável x é igual a \", x)\n",
        "print(\"Qual é o valor da variável X?\")\n",
        "print(\"A variável X é igual a \", X)"
      ]
    },
    {
      "cell_type": "code",
      "execution_count": null,
      "metadata": {
        "id": "n7IuseK8WtsT",
        "colab": {
          "base_uri": "https://localhost:8080/"
        },
        "outputId": "8955ec01-bd81-434e-a67c-aa2d4668f21f"
      },
      "outputs": [
        {
          "output_type": "stream",
          "name": "stdout",
          "text": [
            "Reescreva o Exercício 02 utilizando variáveis\n",
            "2073.6\n"
          ]
        }
      ],
      "source": [
        "# Exercício 03\n",
        "print(\"Reescreva o Exercício 02 utilizando variáveis\")\n",
        "valor = 1000.0\n",
        "taxa_juros = 0.2\n",
        "anos = 4\n",
        "dívida = valor *(1+taxa_juros)**anos\n",
        "print(divida)\n"
      ]
    },
    {
      "cell_type": "code",
      "execution_count": null,
      "metadata": {
        "id": "PWxgWvwhWtsa",
        "colab": {
          "base_uri": "https://localhost:8080/"
        },
        "outputId": "7772df95-7e19-459f-f23e-aa52d696a7b5"
      },
      "outputs": [
        {
          "output_type": "stream",
          "name": "stdout",
          "text": [
            "Calcule o Índice de Massa Copórea (IMC)\n",
            "Qual é o seu peso?\n",
            "74.6\n",
            "Qual é a sua altura em metros?\n",
            "1.73\n",
            "O Seu IMC é: 24.925657389154328\n"
          ]
        }
      ],
      "source": [
        "# Exercício 04\n",
        "# Verifique a fómula do IMC na Internet\n",
        "\n",
        "print(\"Calcule o Índice de Massa Copórea (IMC)\")\n",
        "\n",
        "# Entre com o valor do pese do usuário\n",
        "print(\"Qual é o seu peso?\")\n",
        "peso = input()\n",
        "peso = float(peso)\n",
        "\n",
        "# Entre com o valor da altura em metros do usuário\n",
        "print(\"Qual é a sua altura em metros?\")\n",
        "altura = input()\n",
        "altura = float(altura)\n",
        "\n",
        "# cálculo do IMC\n",
        "IMC = peso/(altura**2)\n",
        "IMC = str(IMC)\n",
        "\n",
        "print(\"O Seu IMC é: \" + IMC)"
      ]
    },
    {
      "cell_type": "markdown",
      "metadata": {
        "id": "CEuO14piWtsi"
      },
      "source": [
        "### Tipos de vaiáveis em Python\n",
        "\n",
        "Os tipos das variáveis são definidos dinamicamente em Python.\n",
        "- Tipos Básicos em Python\n",
        "    - int --> Inteiro\n",
        "    - flot --> ponto flutuante\n",
        "    - str --> String\n",
        "    - bool --> Booleano (True, False)"
      ]
    },
    {
      "cell_type": "code",
      "execution_count": null,
      "metadata": {
        "id": "se2Qt05GWtsj",
        "colab": {
          "base_uri": "https://localhost:8080/"
        },
        "outputId": "09a3abd8-e340-43e2-ed47-db2de1826c5f"
      },
      "outputs": [
        {
          "output_type": "stream",
          "name": "stdout",
          "text": [
            "Escreva no console os valores dessas variáveis\n",
            "Digite seu nome\n",
            "Jefferson Estevo\n",
            "Digite sua nota\n",
            "8.5\n",
            "Você é um(a) bom(a) aluno(a)? S/N\n",
            "s\n",
            "Digite sua idade:\n",
            "27\n",
            "O(A) aluno(a)  Jefferson Estevo  tem  27 de idade e tirou  8.5 em programação Python.\n",
            "\n"
          ]
        }
      ],
      "source": [
        "# Exercício 05\n",
        "Nome_aluno = \"Isabel da Silva\"\n",
        "nota = 9.8\n",
        "bom_aluno = True\n",
        "idade = 21 \n",
        "\n",
        "print(\"Escreva no console os valores dessas variáveis\")\n",
        "# escreva o restante do programa ....\n",
        "print(\"Digite seu nome\")\n",
        "Nome_aluno = input()\n",
        "print(\"Digite sua nota\")\n",
        "nota = input()\n",
        "print(\"Você é um(a) bom(a) aluno(a)? S/N\")\n",
        "bom_aluno = input()\n",
        "if bom_aluno == \"S\" or bom_aluno == \"s\":\n",
        "  bom_aluno = True\n",
        "else:\n",
        "  bom_aluno = False\n",
        "\n",
        "print(\"Digite sua idade:\")\n",
        "idade = input() \n",
        "\n",
        "print(\"O(A) aluno(a) \", Nome_aluno,\" tem \", idade,\"de idade e tirou \", nota, \"em programação Python.\\n\")\n"
      ]
    },
    {
      "cell_type": "code",
      "execution_count": null,
      "metadata": {
        "id": "5g5mu0KRWtss",
        "colab": {
          "base_uri": "https://localhost:8080/"
        },
        "outputId": "8c6bf258-10f6-49e2-d4ce-e202a65cd809"
      },
      "outputs": [
        {
          "output_type": "stream",
          "name": "stdout",
          "text": [
            "O que ocorre se se somar um int com um float?\n",
            "3.1\n",
            "Resposta: O Python irá converter o valor do resultado para float, para manter a coerência!\n"
          ]
        }
      ],
      "source": [
        "# Exercício 06\n",
        "# Analise a resposta desse programa e tire suas conclusões\n",
        "print(\"O que ocorre se se somar um int com um float?\")\n",
        "a = 2\n",
        "b = 1.1\n",
        "c = a+b\n",
        "print(c)\n",
        "print(\"Resposta: O Python irá converter o valor do resultado para float, para manter a coerência!\")"
      ]
    },
    {
      "cell_type": "code",
      "execution_count": null,
      "metadata": {
        "id": "VYyS1Tm5Wts8",
        "colab": {
          "base_uri": "https://localhost:8080/"
        },
        "outputId": "2602218b-ece0-4118-cd4b-c6e6fdb889ef"
      },
      "outputs": [
        {
          "output_type": "stream",
          "name": "stdout",
          "text": [
            "O que ocorre se se somar duas strings?\n",
            "Nathalie Rose Araújo\n",
            "Resposta: O Python irá concatenar as duas strings!\n"
          ]
        }
      ],
      "source": [
        "# Exercício 07\n",
        "# Analise a resposta desse programa e tire suas conclusões\n",
        "print(\"O que ocorre se se somar duas strings?\")\n",
        "Nome = \"Nathalie\" + \" \" + \"Rose\"\n",
        "Sobrenome = \"Araújo\"\n",
        "Nome_Completo = Nome + \" \" + Sobrenome\n",
        "print(Nome_Completo)\n",
        "Nome_Completo\n",
        "print(\"Resposta: O Python irá concatenar as duas strings!\")"
      ]
    },
    {
      "cell_type": "code",
      "execution_count": null,
      "metadata": {
        "id": "X_b-itdLWttE",
        "colab": {
          "base_uri": "https://localhost:8080/"
        },
        "outputId": "090468f1-32a0-4885-9aeb-377a906a0a71"
      },
      "outputs": [
        {
          "output_type": "stream",
          "name": "stdout",
          "text": [
            "É possível somar um int com um str?\n",
            "Neste caso o Python não consegue fazer inferência, logo retorna um erro!\n"
          ]
        }
      ],
      "source": [
        "# Exercício 08\n",
        "# Analise a resposta desse programa e tire suas conclusões\n",
        "\n",
        "print(\"É possível somar um int com um str?\")\n",
        "Nome = \"Maria\"\n",
        "Idade = 18\n",
        "#Nome + Idade\n",
        "print(\"Neste caso o Python não consegue fazer inferência, logo retorna um erro!\")\n"
      ]
    },
    {
      "cell_type": "code",
      "execution_count": null,
      "metadata": {
        "id": "vTpPpFk2WttP",
        "colab": {
          "base_uri": "https://localhost:8080/"
        },
        "outputId": "e357173b-2f3e-463d-dedc-4f972d055e54"
      },
      "outputs": [
        {
          "output_type": "stream",
          "name": "stdout",
          "text": [
            "<class 'int'>\n",
            "<class 'str'>\n"
          ]
        },
        {
          "output_type": "execute_result",
          "data": {
            "text/plain": [
              "bool"
            ]
          },
          "metadata": {},
          "execution_count": 46
        }
      ],
      "source": [
        "# Exercício 09\n",
        "# Use a função type(variavel) para obter o tipo da variável.\n",
        "x1 = 1\n",
        "x2 = \"aeiou\"\n",
        "x3 = False\n",
        "print(type(x1))\n",
        "print(type(x2))\n",
        "type(x3)"
      ]
    },
    {
      "cell_type": "markdown",
      "metadata": {
        "id": "F7KSKwVVWtta"
      },
      "source": [
        "### Dica:\n",
        "Para se converter tipos em outros, em Python se utiliza as seguintes funções:\n",
        "- str(variavel) <-- converte variavel para string\n",
        "- int(variavel) <-- converte variavel para inteiro\n",
        "- float(variavel) <-- converte variavel para ponto flutuante\n",
        "- bool((variavel) <-- converte variavel para booleano"
      ]
    },
    {
      "cell_type": "code",
      "execution_count": null,
      "metadata": {
        "id": "LH3BBBMdWttc",
        "colab": {
          "base_uri": "https://localhost:8080/"
        },
        "outputId": "af590926-3289-4c26-e1ea-a035557b9f7b"
      },
      "outputs": [
        {
          "output_type": "stream",
          "name": "stdout",
          "text": [
            "João tem 22 anos.\n"
          ]
        }
      ],
      "source": [
        "# Exercício 10\n",
        "# Escreva um programa que converta uma variável \"idade\" que é inteiro  em string.\n",
        "Idade = 22\n",
        "Idade = str(Idade)\n",
        "Nome = \"João \"\n",
        "# A saída de ser --> João tem 22 anos.\n",
        "print(Nome + \"tem \" + Idade + \" anos.\")"
      ]
    },
    {
      "cell_type": "markdown",
      "metadata": {
        "id": "7uBNZr89pBxb"
      },
      "source": [
        "### Pergunta:\n",
        "Quando se lê uma variável via teclado, qual é o seu tipo?"
      ]
    },
    {
      "cell_type": "code",
      "execution_count": null,
      "metadata": {
        "id": "MV22YSjWpLR2",
        "colab": {
          "base_uri": "https://localhost:8080/"
        },
        "outputId": "c850e638-5792-480b-8365-a50c4ef2bbfa"
      },
      "outputs": [
        {
          "output_type": "stream",
          "name": "stdout",
          "text": [
            "entre com uma dado: \n",
            "2\n",
            "2\n"
          ]
        },
        {
          "output_type": "execute_result",
          "data": {
            "text/plain": [
              "str"
            ]
          },
          "metadata": {},
          "execution_count": 50
        }
      ],
      "source": [
        "# Exemplo\n",
        "# Analise a resposta desse programa e tire suas conclusões\n",
        "\n",
        "print(\"entre com uma dado: \")\n",
        "variavel = input()\n",
        "print(variavel)\n",
        "type(variavel)\n"
      ]
    },
    {
      "cell_type": "code",
      "execution_count": null,
      "metadata": {
        "id": "_GWuMoAnpuNv",
        "colab": {
          "base_uri": "https://localhost:8080/"
        },
        "outputId": "b43ec618-c0c1-472c-9cc9-63da3df20711"
      },
      "outputs": [
        {
          "output_type": "execute_result",
          "data": {
            "text/plain": [
              "int"
            ]
          },
          "metadata": {},
          "execution_count": 51
        }
      ],
      "source": [
        "# convertendo a variavel para inteiro\n",
        "\n",
        "variavel = int(variavel)\n",
        "type(variavel)"
      ]
    },
    {
      "cell_type": "markdown",
      "metadata": {
        "id": "kdovl8_vRD8g"
      },
      "source": [
        "### Programa desafio 1:\n",
        "\n",
        "Escreva um programa que solicite por antrada de teclado os seguintes valores de variáveis:\n",
        "- nome\n",
        "- altura\n",
        "-peso\n",
        "\n",
        "Entao, forneça como saída o nome e o IMC correspondente.\n",
        "\n",
        "Exemplo:\n",
        "Maria seu IMC é de 1.62"
      ]
    },
    {
      "cell_type": "code",
      "execution_count": null,
      "metadata": {
        "id": "yVSqPbw7RqG4",
        "colab": {
          "base_uri": "https://localhost:8080/"
        },
        "outputId": "de0ef315-1279-492a-a221-b9d1755d8f18"
      },
      "outputs": [
        {
          "output_type": "stream",
          "name": "stdout",
          "text": [
            "Por obséquio, forneça o seu nome? \n",
            "Jeff\n",
            "Se não for inoportuno, foneça o seu peso? Prometo manter essa informação em sigilo\n",
            "80\n",
            "Qual é a sua altura? \n",
            "1.85\n",
            "Jeff  o seu IMC é  23.37472607742878\n"
          ]
        }
      ],
      "source": [
        "# Programa Desafio 1\n",
        "# Escreva o código aqui código\n",
        "\n",
        "print(\"Por obséquio, forneça o seu nome? \")\n",
        "nome = input()\n",
        "nome = str(nome)\n",
        "\n",
        "print(\"Se não for inoportuno, foneça o seu peso? Prometo manter essa informação em sigilo\")\n",
        "peso = input()\n",
        "peso = float(peso)\n",
        "\n",
        "\n",
        "print(\"Qual é a sua altura? \")\n",
        "altura = input()\n",
        "altura = float(altura)\n",
        "\n",
        "# Cálculo do IMC\n",
        "IMC = peso /altura**2\n",
        "IMC = str(IMC)\n",
        "1\n",
        "# Saída do programa\n",
        "print(nome, \" o seu IMC é \", IMC)\n",
        "\n"
      ]
    },
    {
      "cell_type": "code",
      "execution_count": null,
      "metadata": {
        "id": "BxJ7uWykWtth",
        "colab": {
          "base_uri": "https://localhost:8080/",
          "height": 35
        },
        "outputId": "cd7addd8-fffa-420f-c257-db87a5f770a9"
      },
      "outputs": [
        {
          "output_type": "execute_result",
          "data": {
            "text/plain": [
              "'Eu sou gagagago'"
            ],
            "application/vnd.google.colaboratory.intrinsic+json": {
              "type": "string"
            }
          },
          "metadata": {},
          "execution_count": 54
        }
      ],
      "source": [
        "# Curiosidade - execute este programa\n",
        "\"Eu sou \" + (\"ga\")*3 + \"go\"\n"
      ]
    },
    {
      "cell_type": "code",
      "execution_count": null,
      "metadata": {
        "id": "lwvGuxSsWttn",
        "colab": {
          "base_uri": "https://localhost:8080/"
        },
        "outputId": "254c2422-6e9c-4cf8-f4d8-6060d0aeb910"
      },
      "outputs": [
        {
          "output_type": "stream",
          "name": "stdout",
          "text": [
            "Teste essas opções abaixo que estão em comentário\n",
            "1\n",
            "2\n",
            "10\n",
            "-1\n"
          ]
        }
      ],
      "source": [
        "# Curiosidade\n",
        "print(\"Teste essas opções abaixo que estão em comentário\")\n",
        "#False + True\n",
        "#True + True\n",
        "#True * 10\n",
        "#False - True\n",
        "\n",
        "print(False + True)\n",
        "print(True + True)\n",
        "print(True*10)\n",
        "print(False - True)"
      ]
    },
    {
      "cell_type": "markdown",
      "metadata": {
        "id": "ewO5jUBzWtts"
      },
      "source": [
        "### Variável do tipo list\n",
        "- tipo complexo, que representa uma lista de outras variáveis, não necessariamente de mesmo tipo.\n",
        "- As variáveis podem ser listas. No caso, teremos listas de listas\n",
        "\n",
        "Exemplo:\n",
        "\n",
        "lista1 = [1,2,3]\n",
        "\n",
        "lista2 = [\"Maria\", \"1.66\", 22, True]  #[Nome, Altura, Idade, Boa_estudante]"
      ]
    },
    {
      "cell_type": "code",
      "execution_count": null,
      "metadata": {
        "id": "DZsgCGWPB0UI",
        "colab": {
          "base_uri": "https://localhost:8080/"
        },
        "outputId": "61b7c0c4-7c7f-40ab-a2ec-f798270431b9"
      },
      "outputs": [
        {
          "output_type": "execute_result",
          "data": {
            "text/plain": [
              "['Maria', '1.66', 22, True]"
            ]
          },
          "metadata": {},
          "execution_count": 62
        }
      ],
      "source": [
        "lista2 = [\"Maria\", \"1.66\", 22, True]\n",
        "lista2"
      ]
    },
    {
      "cell_type": "code",
      "execution_count": null,
      "metadata": {
        "colab": {
          "base_uri": "https://localhost:8080/"
        },
        "id": "_A9medfmWttt",
        "outputId": "ea6936c2-d8b5-4819-869f-bb70d630fa82"
      },
      "outputs": [
        {
          "output_type": "stream",
          "name": "stdout",
          "text": [
            "<class 'list'>\n",
            "[11.25, 18.0, 20.0, 10.75, 9.5]\n"
          ]
        }
      ],
      "source": [
        "# Lista com variáveis de mesmo tipo\n",
        "# Áreas dos cômodos de uma casa (em metros quadrados)\n",
        "hall = 11.25\n",
        "kit = 18.0\n",
        "liv = 20.0\n",
        "bed = 10.75\n",
        "bath = 9.50\n",
        "\n",
        "# Criação da lista areas\n",
        "areas = [hall, kit, liv, bed, bath]\n",
        "\n",
        "# Print areas\n",
        "print(type(areas))\n",
        "print(areas)"
      ]
    },
    {
      "cell_type": "code",
      "execution_count": null,
      "metadata": {
        "colab": {
          "base_uri": "https://localhost:8080/"
        },
        "id": "3BrTc6sZWttz",
        "outputId": "cb7cba67-4ff6-41ce-e99f-f57edd9c9aa6"
      },
      "outputs": [
        {
          "output_type": "stream",
          "name": "stdout",
          "text": [
            "['hallway', 11.25, 'kitchen', 18.0, 'living room', 20.0, 'bedroom', 10.75, 'bathroom', 9.5]\n"
          ]
        }
      ],
      "source": [
        "# Lista com variáveis de diferentes tipos\n",
        "# Áreas dos cômodos de uma casa (em metros quadrados)\n",
        "hall = 11.25\n",
        "kit = 18.0\n",
        "liv = 20.0\n",
        "bed = 10.75\n",
        "bath = 9.50\n",
        "\n",
        "# Criação da lista areas\n",
        "areas = [\"hallway\", hall, \"kitchen\", kit, \"living room\", liv, \"bedroom\", bed, \"bathroom\", bath]\n",
        "\n",
        "# Print areas\n",
        "print(areas)\n"
      ]
    },
    {
      "cell_type": "code",
      "execution_count": null,
      "metadata": {
        "colab": {
          "base_uri": "https://localhost:8080/"
        },
        "id": "VXNk5gNsWtt7",
        "outputId": "e1c6b166-7d56-4346-c729-b3428bb6966d"
      },
      "outputs": [
        {
          "output_type": "stream",
          "name": "stdout",
          "text": [
            "[['hallway', 11.25], ['kitchen', 18.0], ['living room', 20.0], ['bedroom', 10.75], ['bathroom', 9.5]]\n",
            "<class 'list'>\n"
          ]
        }
      ],
      "source": [
        "# Lista de Lista\n",
        "# Áreas dos cômodos de uma casa (em metro quadrado)\n",
        "hall = 11.25\n",
        "kit = 18.0\n",
        "liv = 20.0\n",
        "bed = 10.75\n",
        "bath = 9.50\n",
        "\n",
        "# informação sobre metragem da casa como lista de lista\n",
        "house = [[\"hallway\", hall],\n",
        "         [\"kitchen\", kit],\n",
        "         [\"living room\", liv],\n",
        "         [\"bedroom\", bed],\n",
        "         [\"bathroom\", bath]\n",
        "         ]\n",
        "\n",
        "# Print a variaável house\n",
        "\n",
        "print(house)\n",
        "\n",
        "# Print o tipo da variável house\n",
        "\n",
        "print(type(house))"
      ]
    },
    {
      "cell_type": "code",
      "execution_count": null,
      "metadata": {
        "id": "IBJ34-nOWtuD",
        "colab": {
          "base_uri": "https://localhost:8080/"
        },
        "outputId": "39738005-6085-4ac0-be8a-5318c87b915f"
      },
      "outputs": [
        {
          "output_type": "stream",
          "name": "stdout",
          "text": [
            "[['Maria', 48, 70.0, 1.65, True], ['João', 55, 86.2, 1.84, False], ['William', 25, 74.6, 1.74, False], ['Fernanda', 18, 62.3, 1.62, True]]\n",
            "<class 'int'>\n"
          ]
        }
      ],
      "source": [
        "# Exercício 11\n",
        "# Crie 01 lista Familia, que é composta por 04 listas: Pai, Mae, Filho, Filha.\n",
        "# Essas listas têm as variáveis Nome (str), Idade (int), Peso (float), Altura (float)\n",
        "#sexo (bool) True-feminino, False-Masculino\n",
        "Pai = [\"João\", 55, 86.2, 1.84, False]\n",
        "Mae = [\"Maria\", 48, 70.0, 1.65, True]\n",
        "Filho = [\"William\", 25, 74.6, 1.74, False]\n",
        "Filha = [\"Fernanda\", 18, 62.3, 1.62, True]\n",
        "\n",
        "Familia = [Mae, Pai,Filho,Filha]\n",
        "print(Familia)\n",
        "\n",
        "print(type(Familia[0][1]))"
      ]
    },
    {
      "cell_type": "code",
      "execution_count": null,
      "metadata": {
        "id": "ebBimdA9Db6c",
        "colab": {
          "base_uri": "https://localhost:8080/"
        },
        "outputId": "a51aeafd-187c-4ae5-834a-836c07a20568"
      },
      "outputs": [
        {
          "output_type": "stream",
          "name": "stdout",
          "text": [
            "João\n",
            "62.3\n",
            "['Maria', 48, 70.0, 1.65, True]\n",
            "48\n",
            "1.84\n",
            "['Maria', 'João', 'William', 'Fernanda']\n",
            "[True, False, False, True]\n",
            "2\n"
          ]
        }
      ],
      "source": [
        "# Execute esse prgrama e analise a sua resposta.\n",
        "\n",
        "print(Pai[0])\n",
        "print(Filha[2])\n",
        "print(Familia[0])\n",
        "print(Familia[0][1])\n",
        "print(Familia[1][3])\n",
        "\n",
        "Nomes = [Familia[0][0], Familia[1][0], Familia[2][0],Familia[3][0]]\n",
        "Sexos = [Familia[0][-1], Familia[1][-1], Familia[2][-1],Familia[3][-1]]\n",
        "print(Nomes)\n",
        "print(Sexos)\n",
        "Soma_da_Idades = Familia[0][4] + Familia[1][4] + Familia[2][4] + Familia[3][4]\n",
        "print(Soma_da_Idades)\n",
        "\n",
        "\n"
      ]
    },
    {
      "cell_type": "markdown",
      "metadata": {
        "id": "d1n1FsUyWtuK"
      },
      "source": [
        "Explicação - Acessado elementos de uma lista\n",
        "- list[n]  --> retorna a variável da posição n. O primeiro índice é o ZERO\n",
        "- list[n1:n2] --> retorna uma sub-lista da posição n1 até a posição n2-1\n",
        "- list[:n] --> retorna uma sub-lista da posição ZERO até n-1\n",
        "- list[n:] --> retorna uma sub-lista da posição n até o final da lista"
      ]
    },
    {
      "cell_type": "code",
      "execution_count": null,
      "metadata": {
        "id": "4f4tiyZfWtuN",
        "colab": {
          "base_uri": "https://localhost:8080/"
        },
        "outputId": "b32f9213-7e77-45d4-fd14-89e72fe9ff29"
      },
      "outputs": [
        {
          "output_type": "stream",
          "name": "stdout",
          "text": [
            "0\n",
            "2\n",
            "5\n",
            "4\n",
            "[1, 2]\n",
            "[1, 2, 3]\n",
            "[1]\n",
            "[0, 1, 2]\n",
            "[0, 1, 2, 3, 4, 5]\n",
            "[1, 2]\n",
            "[1]\n",
            "[]\n"
          ]
        }
      ],
      "source": [
        "# Exemplos de acesso a elementos de listas\n",
        "# Rode o programa e analise as suas respostas.\n",
        "lista = [0,1,2,3,4,5]\n",
        "print(lista[0])\n",
        "print(lista[2])\n",
        "#print(lista[7]) erro\n",
        "#print(lista[-7]) erro\n",
        "print(lista[-1])\n",
        "print(lista[-2])\n",
        "print(lista[1:3])\n",
        "print(lista[1:4])\n",
        "print(lista[1:2])\n",
        "print(lista[:3])\n",
        "print(lista[:])\n",
        "print(lista[-5:3])\n",
        "print(lista[-5:2])\n",
        "print(lista[-5:1])"
      ]
    },
    {
      "cell_type": "code",
      "execution_count": null,
      "metadata": {
        "id": "i9HgHM-9WtuX",
        "colab": {
          "base_uri": "https://localhost:8080/"
        },
        "outputId": "3cd50a5f-6560-43f5-b433-2e73a552c344"
      },
      "outputs": [
        {
          "output_type": "stream",
          "name": "stdout",
          "text": [
            "11.25\n",
            "9.5\n",
            "20.0\n",
            "69.5\n"
          ]
        }
      ],
      "source": [
        "#Exercício 12\n",
        "\n",
        "# Criação da lista areas\n",
        "areas = [\"hallway\", 11.25, \"kitchen\", 18.0, \"living room\", 20.0, \"bedroom\", 10.75, \"bathroom\", 9.50]\n",
        "\n",
        "# Print o segundo elemento da lista\n",
        "print(areas[1])\n",
        "\n",
        "# Print o valor do último elemnto da lista\n",
        "print(areas[-1])\n",
        "\n",
        "# Print o valor da área do living room\n",
        "print(areas[5])\n",
        "\n",
        "# Print o valor da área total da casa \n",
        "print(areas[1]+areas[3]+areas[5]+areas[7]+areas[9])"
      ]
    },
    {
      "cell_type": "code",
      "execution_count": null,
      "metadata": {
        "id": "bIaW7WSbWtud",
        "colab": {
          "base_uri": "https://localhost:8080/",
          "height": 87
        },
        "outputId": "7fe61a19-5cab-4316-f4f6-7fcdcedcb13e"
      },
      "outputs": [
        {
          "output_type": "stream",
          "name": "stdout",
          "text": [
            "g\n",
            "['g', 'h']\n",
            "c ['d', 'e']\n"
          ]
        },
        {
          "output_type": "execute_result",
          "data": {
            "text/plain": [
              "'cade'"
            ],
            "application/vnd.google.colaboratory.intrinsic+json": {
              "type": "string"
            }
          },
          "metadata": {},
          "execution_count": 78
        }
      ],
      "source": [
        "# Dica\n",
        "x = [[\"a\", \"b\", \"c\"],\n",
        "     [\"d\", \"e\", \"f\"],\n",
        "     [\"g\", \"h\", \"i\"]]\n",
        "print(x[2][0])\n",
        "print(x[2][:2])\n",
        "print(x[0][-1],x[1][:2])\n",
        "x[0][2]+x[0][0]+x[1][0]+x[1][1]"
      ]
    },
    {
      "cell_type": "code",
      "execution_count": null,
      "metadata": {
        "id": "It25Np4hWtuk"
      },
      "outputs": [],
      "source": [
        "#Exercício 13 - \n",
        "# Dado o Exercício 11.\n",
        "# Crie uma lista denominada de Nomes que contenha os nomes do Pai, Mae, Filho e Filha da lista Familia\n",
        "\n",
        "# Exercício 11\n",
        "Pai = [\"João\", 55, 86.2, 1.84, False]\n",
        "Mae = [\"Maria\", 48, 70.0, 1.65, True]\n",
        "Filho = [\"William\", 25, 74.6, 1.74, False]\n",
        "Filha = [\"Fernanda\", 18, 62.3, 1.62, True]\n",
        "\n",
        "Familia = [Mae, Pai,Filho,Filha]\n",
        "\n",
        "nomes = [Familia[1][0], Familia[0][0], Familia[2][0], Familia[3][0]]\n",
        "print(nomes)"
      ]
    },
    {
      "cell_type": "code",
      "execution_count": null,
      "metadata": {
        "id": "qEdJQD1pWtur",
        "colab": {
          "base_uri": "https://localhost:8080/"
        },
        "outputId": "b63a8153-b44d-43bc-da56-c77ce2a2f15f"
      },
      "outputs": [
        {
          "output_type": "stream",
          "name": "stdout",
          "text": [
            "[['William', 25, 74.6, 1.74, False], ['Fernanda', 18, 62.3, 1.62, True]]\n"
          ]
        }
      ],
      "source": [
        "#Exercício 14 - \n",
        "# Dado o Exercício 11.\n",
        "# Crie uma lista denominada de Filhos que contenha apenas as informações de Filho e Filha da lista Familia\n",
        "\n",
        "Filhos = [Familia[2], Familia[3]]\n",
        "print(Filhos)"
      ]
    },
    {
      "cell_type": "code",
      "execution_count": null,
      "metadata": {
        "id": "jYzv1ZNRWtux",
        "colab": {
          "base_uri": "https://localhost:8080/"
        },
        "outputId": "cabb12e6-383b-4500-d180-247463deead5"
      },
      "outputs": [
        {
          "output_type": "stream",
          "name": "stdout",
          "text": [
            "[25.460775047258977, 25.71166207529844, 24.639978861144137, 23.738759335467147]\n"
          ]
        }
      ],
      "source": [
        "#Exercício 15 - \n",
        "# Dado o Exercício 11.\n",
        "# Calcule IMC das pessoas da lista Familia.\n",
        "# Armazene esses valores numa lista denominada de valor_IMC\n",
        "#\n",
        "# Cálculo do IMC\n",
        "\n",
        "Pai = [\"João\", 55, 86.2, 1.84, False]\n",
        "Mae = [\"Maria\", 48, 70.0, 1.65, True]\n",
        "Filho = [\"William\", 25, 74.6, 1.74, False]\n",
        "Filha = [\"Fernanda\", 18, 62.3, 1.62, True]\n",
        "\n",
        "Familia = [Mae, Pai,Filho,Filha]\n",
        "\n",
        "IMC_PAI = (Familia[1][2]) /(Familia[1][3])**2\n",
        "IMC_MAE = (Familia[0][2]) /(Familia[0][3])**2\n",
        "IMC_FILHO = (Familia[2][2]) /(Familia[2][3])**2\n",
        "IMC_FILHA = (Familia[3][2]) /(Familia[3][3])**2\n",
        "\n",
        "valor_IMC = [IMC_PAI, IMC_MAE, IMC_FILHO, IMC_FILHA]\n",
        "print(valor_IMC)\n",
        "#IMC = str(IMC)\n"
      ]
    },
    {
      "cell_type": "markdown",
      "metadata": {
        "id": "0SqbqnesWtvB"
      },
      "source": [
        "Modificar elementos de uma lista\n",
        "- lista[elemento] = novo_valor\n",
        "\n",
        "Incluir elementos em lista (concatenar duas ou mais listas)\n",
        "- lista3 = lista1 + lista3\n",
        "\n",
        "Remover Elementos em Lista\n",
        "- del(lista[elemento])"
      ]
    },
    {
      "cell_type": "code",
      "execution_count": null,
      "metadata": {
        "id": "uCB0VcoYVAhV"
      },
      "outputs": [],
      "source": [
        "# Exemplo com listas\n",
        "lista1 = [1,1,1]\n",
        "lista2 =[2,2,2]\n",
        "lista3 = lista1 + lista2\n"
      ]
    },
    {
      "cell_type": "code",
      "execution_count": null,
      "metadata": {
        "id": "maCwgIELVeC0",
        "colab": {
          "base_uri": "https://localhost:8080/"
        },
        "outputId": "af1c4915-542a-457d-b560-314e2f12ed17"
      },
      "outputs": [
        {
          "output_type": "stream",
          "name": "stdout",
          "text": [
            "lista3:  [1, 1, 1, 2, 2, 2]\n",
            "lista3[2]:  1\n",
            "lista3:  [1, 1, 2, 2]\n",
            "lista3[2]:  2\n"
          ]
        }
      ],
      "source": [
        "# Exemplo com lista - continuação\n",
        "print(\"lista3: \", lista3)\n",
        "print(\"lista3[2]: \", lista3[2])\n",
        "\n",
        "# remover um elemento da lista3\n",
        "del(lista3[2:4])\n",
        "print(\"lista3: \", lista3)\n",
        "print(\"lista3[2]: \", lista3[2])"
      ]
    },
    {
      "cell_type": "code",
      "execution_count": null,
      "metadata": {
        "id": "bBMdNeavWtvR",
        "colab": {
          "base_uri": "https://localhost:8080/"
        },
        "outputId": "22b8c40a-c0f4-48bb-be36-c01cc093643d"
      },
      "outputs": [
        {
          "output_type": "stream",
          "name": "stdout",
          "text": [
            "['hallway', 11.25, 'kitchen', 18.0, 'child zone', 20.0, 'bedroom', 10.75, 'bathroom', 10.5, 24.5, 'garage', 15.45]\n"
          ]
        }
      ],
      "source": [
        "# Exercício 16\n",
        "# Remova pela ordem a string \"poolhouse\" e o valor de sua área\n",
        "areas = [\"hallway\", 11.25, \"kitchen\", 18.0,\n",
        "        \"child zone\", 20.0, \"bedroom\", 10.75,\n",
        "         \"bathroom\", 10.50, \"poolhouse\", 24.5,\n",
        "         \"garage\", 15.45]\n",
        "del(areas[10])\n",
        "#del(areas[10])\n",
        "print(areas)"
      ]
    },
    {
      "cell_type": "code",
      "execution_count": null,
      "metadata": {
        "id": "Yxc9vMtzWtvD",
        "colab": {
          "base_uri": "https://localhost:8080/"
        },
        "outputId": "50bdc2be-7fb1-4dbb-cf22-f808bf600fd0"
      },
      "outputs": [
        {
          "output_type": "stream",
          "name": "stdout",
          "text": [
            "[['Maria', 48, 70.0, 1.65, True], ['João', 55, 86.2, 1.84, False], ['William', 25, 74.6, 1.74, False], ['Zé', 5, 35.88, 1.38, False], ['Fernanda', 18, 62.3, 1.62, True]]\n"
          ]
        }
      ],
      "source": [
        "# Exercício 17 \n",
        "# Dado o Exercício 11\n",
        "# Inclua mais um filho, denominado Filho2 na lista Familia\n",
        "\n",
        "Pai = [\"João\", 55, 86.2, 1.84, False]\n",
        "Mae = [\"Maria\", 48, 70.0, 1.65, True]\n",
        "Filho = [\"William\", 25, 74.6, 1.74, False]\n",
        "Filho2 = [\"Zé\", 5, 35.88, 1.38, False]\n",
        "Filha = [\"Fernanda\", 18, 62.3, 1.62, True]\n",
        "\n",
        "Familia = [Mae, Pai,Filho,Filho2,Filha]\n",
        "\n",
        "print(Familia)"
      ]
    },
    {
      "cell_type": "code",
      "execution_count": null,
      "metadata": {
        "id": "z_w1bQqyWtvM",
        "colab": {
          "base_uri": "https://localhost:8080/"
        },
        "outputId": "9bc2c0f5-c4f3-4d99-e6c1-821e5a33f049"
      },
      "outputs": [
        {
          "output_type": "stream",
          "name": "stdout",
          "text": [
            "['William', 25, 74.6, 1.74, False]\n",
            "Os índices da lista são rearranjados!\n"
          ]
        }
      ],
      "source": [
        "# Exercício 18 \n",
        "# Dado o Exercício 11\n",
        "# Remova Filho da lista Familia\n",
        "# O que ocorre com os índices da lista Familia?\n",
        "\n",
        "Familia = [Mae, Pai,Filho,Filho2,Filha]\n",
        "#del(Familia[2])\n",
        "print(Familia[2])\n",
        "print(\"Os índices da lista são rearranjados!\")"
      ]
    },
    {
      "cell_type": "code",
      "execution_count": null,
      "metadata": {
        "id": "sbRECfP2XVwc",
        "colab": {
          "base_uri": "https://localhost:8080/"
        },
        "outputId": "4b2004a8-4586-4b7d-8cbc-9945a1e41d40"
      },
      "outputs": [
        {
          "output_type": "execute_result",
          "data": {
            "text/plain": [
              "[['Maria', 48, 70.0, 1.65, True, 25.460775047258977],\n",
              " ['João', 55, 86.2, 1.84, False, 25.71166207529844],\n",
              " ['William', 25, 74.6, 1.74, False, 24.639978861144137],\n",
              " ['Fernanda', 18, 62.3, 1.62, True, 23.738759335467147]]"
            ]
          },
          "metadata": {},
          "execution_count": 3
        }
      ],
      "source": [
        "#Exercício 19 \n",
        "# Dado o Exercício 11.\n",
        "# Calcule IMC das pessoas da lista Familia, e inclua essa informação na lista Família\n",
        "#\n",
        "# Exercício 11\n",
        "# Crie 01 lista Familia, que é composta por 04 listas: Pai, Mae, Filho, Filha.\n",
        "# Essas listas têm as variáveis Nome (str), Idade (int), Peso (float), Altura (float)\n",
        "#sexo (bool) True-feminino, False-Masculino\n",
        "Pai = [\"João\", 55, 86.2, 1.84, False]\n",
        "Mae = [\"Maria\", 48, 70.0, 1.65, True]\n",
        "Filho = [\"William\", 25, 74.6, 1.74, False]\n",
        "Filha = [\"Fernanda\", 18, 62.3, 1.62, True]\n",
        "\n",
        "Familia = [Mae, Pai,Filho,Filha]\n",
        "\n",
        "IMC_pai = Familia[1][2]/(Familia[1][3])**2\n",
        "IMC_mae = Familia[0][2]/(Familia[0][3])**2\n",
        "IMC_filho = Familia[2][2]/(Familia[2][3])**2\n",
        "IMC_filha = Familia[3][2]/(Familia[3][3])**2\n",
        "\n",
        "Familia[0].append(IMC_pai)\n",
        "Familia[1].append(IMC_mae)\n",
        "Familia[2].append(IMC_filho)\n",
        "Familia[3].append(IMC_filha)\n",
        "\n",
        "Familia"
      ]
    },
    {
      "cell_type": "markdown",
      "metadata": {
        "id": "zxq1iF5pWc3B"
      },
      "source": [
        "### Atenção\n",
        " - Há difença entre atribuição e cópia de listas."
      ]
    },
    {
      "cell_type": "code",
      "execution_count": null,
      "metadata": {
        "id": "-UH1Hy5LWtvb",
        "colab": {
          "base_uri": "https://localhost:8080/"
        },
        "outputId": "fa9610e1-a914-41da-d035-5853522a4dd7"
      },
      "outputs": [
        {
          "output_type": "stream",
          "name": "stdout",
          "text": [
            "[11.25, 18.0, 20.0, 10.75, 9.5]\n",
            "[5.0, 18.0, 20.0, 10.75, 9.5]\n"
          ]
        }
      ],
      "source": [
        "# Cópia de lista: diferença entre atribuição e cópia de listas\n",
        "# Criação de lista\n",
        "# Rode a analise os resultados deste programa\n",
        "\n",
        "lista1 = [11.25, 18.0, 20.0, 10.75, 9.50]\n",
        "\n",
        "# Atribuição e copia de listas\n",
        "#lista2 = lista1\n",
        "lista2 = list(lista1)\n",
        "#lista2 = lista1[:]\n",
        "\n",
        "# Modificação na lista\n",
        "lista2[0] = 5.0\n",
        "\n",
        "# Print lista1\n",
        "print(lista1)\n",
        "print(lista2)"
      ]
    },
    {
      "cell_type": "markdown",
      "metadata": {
        "id": "rbT0GXsDWtvk"
      },
      "source": [
        "## Usando Função em Python\n",
        "- Há diversas funções úteis já disponíveis em Python\n",
        "    - type(variavel)\n",
        "    - print(variavel)\n",
        "    - str(variavel); float(variavel); ...\n",
        "    - max(variavel)\n",
        "    - min(variavel)\n",
        "    - mean(variavel)\n",
        "    - round(valor,precisao), round(valor)\n",
        "    - complex(valor)\n",
        "    - sorted(iterable, key, reverse)\n",
        "    - help(funcao)"
      ]
    },
    {
      "cell_type": "code",
      "execution_count": null,
      "metadata": {
        "id": "9jnsakiiWtvm",
        "colab": {
          "base_uri": "https://localhost:8080/"
        },
        "outputId": "56b650b9-775b-487d-99d7-2f9df2e2a5d2"
      },
      "outputs": [
        {
          "output_type": "stream",
          "name": "stdout",
          "text": [
            "<class 'list'>\n",
            "4\n",
            "4\n",
            "1\n",
            "10\n",
            "2.5\n"
          ]
        }
      ],
      "source": [
        "# Exemplos de uso de funções\n",
        "# Criar variáveis var1 e var2\n",
        "var1 = [1, 2, 3, 4]\n",
        "var2 = True\n",
        "\n",
        "# Print tipo (type) de var1\n",
        "print(type(var1))\n",
        "\n",
        "# Print o tamanho de var1\n",
        "print(len(var1))\n",
        "\n",
        "# Print o máximo var1\n",
        "print(max(var1))\n",
        "\n",
        "# Print o mínimo var1\n",
        "print(min(var1))\n",
        "\n",
        "# Print a soma var1\n",
        "print(sum(var1))\n",
        "\n",
        "# Print média var1\n",
        "print(sum(var1)/len(var1))\n",
        "\n",
        "# Converter var2 para um inteiro: out2\n",
        "out2 = int(var2)"
      ]
    },
    {
      "cell_type": "code",
      "execution_count": null,
      "metadata": {
        "id": "v2dxg-PtWtvu",
        "colab": {
          "base_uri": "https://localhost:8080/"
        },
        "outputId": "0fbcc049-ff6a-4ba0-a48e-f45d89b2511a"
      },
      "outputs": [
        {
          "output_type": "stream",
          "name": "stdout",
          "text": [
            "Help on built-in function min in module builtins:\n",
            "\n",
            "min(...)\n",
            "    min(iterable, *[, default=obj, key=func]) -> value\n",
            "    min(arg1, arg2, *args, *[, key=func]) -> value\n",
            "    \n",
            "    With a single iterable argument, return its smallest item. The\n",
            "    default keyword-only argument specifies an object to return if\n",
            "    the provided iterable is empty.\n",
            "    With two or more arguments, return the smallest argument.\n",
            "\n"
          ]
        }
      ],
      "source": [
        "help(min)"
      ]
    },
    {
      "cell_type": "code",
      "execution_count": null,
      "metadata": {
        "id": "uVkGXITqWtv2"
      },
      "outputs": [],
      "source": [
        "?max"
      ]
    },
    {
      "cell_type": "code",
      "execution_count": null,
      "metadata": {
        "id": "2E6SnXewWtwB",
        "colab": {
          "base_uri": "https://localhost:8080/"
        },
        "outputId": "43f24e4c-56b0-482c-e9e2-e640ad9235c4"
      },
      "outputs": [
        {
          "output_type": "stream",
          "name": "stdout",
          "text": [
            "0j\n",
            "(1+0j)\n",
            "(1+2j)\n"
          ]
        }
      ],
      "source": [
        "# Teste essas opções e conclua com funciona o número complexo\n",
        "complex()\n",
        "complex(1)\n",
        "complex(1,2)\n",
        "\n",
        "print(complex())\n",
        "print(complex(1))\n",
        "print(complex(1,2))"
      ]
    },
    {
      "cell_type": "code",
      "execution_count": null,
      "metadata": {
        "id": "fTkMoZc0WtwH",
        "colab": {
          "base_uri": "https://localhost:8080/"
        },
        "outputId": "6303759c-bfc8-431e-e535-f7d85d4eb1ae"
      },
      "outputs": [
        {
          "output_type": "stream",
          "name": "stdout",
          "text": [
            "Help on built-in function sorted in module builtins:\n",
            "\n",
            "sorted(iterable, /, *, key=None, reverse=False)\n",
            "    Return a new list containing all items from the iterable in ascending order.\n",
            "    \n",
            "    A custom key function can be supplied to customize the sort order, and the\n",
            "    reverse flag can be set to request the result in descending order.\n",
            "\n"
          ]
        }
      ],
      "source": [
        "# Execute o comando help()\n",
        "help(sorted)"
      ]
    },
    {
      "cell_type": "code",
      "execution_count": null,
      "metadata": {
        "id": "sKdxe_c0WtwS",
        "colab": {
          "base_uri": "https://localhost:8080/"
        },
        "outputId": "a3b43d87-2940-4be9-8df5-7d5878e1b446"
      },
      "outputs": [
        {
          "output_type": "stream",
          "name": "stdout",
          "text": [
            "[11.25, 18.0, 20.0, 10.75, 9.5]\n",
            "[20.0, 18.0, 11.25, 10.75, 9.5]\n"
          ]
        }
      ],
      "source": [
        "# Exemplo\n",
        "# Criar duas listas: first e second\n",
        "first = [11.25, 18.0, 20.0]\n",
        "second = [10.75, 9.50]\n",
        "\n",
        "# Unir as duas listas na lista full\n",
        "full = first + second\n",
        "print(full)\n",
        "\n",
        "# Ordenar a lista full em ordem decrscente e armazenar o resultado na lista full_sorted\n",
        "full_sorted = sorted(full, reverse = True)\n",
        "#full_sorted = sorted(full)\n",
        "\n",
        "# Print a lista full_sorted\n",
        "print(full_sorted)\n",
        "\n",
        "# Investigue o que ocorre se não for utilizado o parâmetro reserve\n",
        "\n",
        "# Qual é a utilidade do parâmetro key?"
      ]
    },
    {
      "cell_type": "markdown",
      "metadata": {
        "id": "AU8CIrdHWtwd"
      },
      "source": [
        "### Lembrete:\n",
        "Em Python, todos os tipos de variáveis são classe.\n",
        "- As variáveis são objetos de classes específicas\n",
        "\n",
        "Assim, todas as variáveis possuem métodos específicos.\n",
        "- Os métodos são funções pertencentes a objetos\n",
        "\n",
        "Para acessar métodos, devemos utilizar a seguinte sintase:\n",
        "- variavel.metodo(parametros)"
      ]
    },
    {
      "cell_type": "markdown",
      "metadata": {
        "id": "J4hnxQzXWtwi"
      },
      "source": [
        "Métodos da classe String\n",
        "\n",
        "- As strings possuem com um monte de métodos específicos.\n",
        "- Para verificar mais detalhadamente, você sempre pode digitar help (str) no IPython Shell."
      ]
    },
    {
      "cell_type": "code",
      "execution_count": null,
      "metadata": {
        "id": "e_Z-QSufWtwl"
      },
      "outputs": [],
      "source": [
        "# Exemplo\n",
        "# string room\n",
        "room = \"poolhouse\"\n",
        "\n",
        "# Use o método upper() sobre a string room. Armazene a resposta em room_up\n",
        "room_up = room.upper()\n",
        "\n",
        "# Print as strings room e room_up\n",
        "print(room)\n",
        "print(room_up)\n",
        "\n",
        "# Print o número de ocorrência da letra \"o\" na string room\n",
        "print(room.count(\"o\"))"
      ]
    },
    {
      "cell_type": "markdown",
      "metadata": {
        "id": "2sjTdmfy04ky"
      },
      "source": [
        "### Exemplos de alguns métodos de Listas\n",
        "- lista.index(parametro)\n",
        "- lista(count(parametro))\n",
        "- append()\n",
        "- remove(), remove o primeiro elemento da lista que casa com o parâmetro\n",
        "- reversed(), reverte a ordem dos elementos"
      ]
    },
    {
      "cell_type": "code",
      "execution_count": null,
      "metadata": {
        "id": "4G0rf8EsWtww"
      },
      "outputs": [],
      "source": [
        "# Exemplo de uso de operação com listas\n",
        "frase = \"socorram me subi no onibus em marrocos\"\n",
        "print(frase[::-1])\n",
        "frase1 = \"o po de cocaina mata maniaco cedo po\"\n",
        "print(frase1[::-1])"
      ]
    },
    {
      "cell_type": "code",
      "execution_count": null,
      "metadata": {
        "id": "ImPbsFJXWtwy"
      },
      "outputs": [],
      "source": [
        "# Exemplo de operação com listas\n",
        "# Criar a lista areas\n",
        "areas = [11.25, 18.0, 20.0, 10.75, 9.50]\n",
        "\n",
        "# Print o índice do elemento 20.0 na lista\n",
        "print(areas.index(20.0))\n",
        "\n",
        "# Print a quantidade de vezes que 14.5 apareace em areas\n",
        "\n",
        "print(areas.count(14.5))"
      ]
    },
    {
      "cell_type": "code",
      "execution_count": null,
      "metadata": {
        "id": "UzSK-0_bWtw-",
        "colab": {
          "base_uri": "https://localhost:8080/"
        },
        "outputId": "e865d894-96d2-4ae2-ffc2-34eed88911d1"
      },
      "outputs": [
        {
          "output_type": "stream",
          "name": "stdout",
          "text": [
            "None\n",
            "[24.5, 20.0, 18.0, 15.45, 11.25, 10.75, 9.5]\n",
            "[15.45, 24.5, 9.5, 10.75, 20.0, 18.0, 11.25]\n"
          ]
        }
      ],
      "source": [
        "# Exercício 19\n",
        "#Criar a lista areas\n",
        "areas = [11.25, 18.0, 20.0, 10.75, 9.50]\n",
        "\n",
        "# Use o método append duas vezes para incluir os valores 24.5 e 15.45 no final da lista areas\n",
        "areas.append(24.5)\n",
        "\n",
        "# Print a lista areas\n",
        "areas.append(15.45)\n",
        "\n",
        "# Inverta a ordem dos elementos na lista areas via o método reserve\n",
        "print(areas.reverse())\n",
        "print(sorted(areas, reverse=True))\n",
        "\n",
        "# Print a lista areas\n",
        "print(areas)"
      ]
    },
    {
      "cell_type": "markdown",
      "metadata": {
        "id": "MzdUF61uWtxE"
      },
      "source": [
        "## Módulos em Python\n",
        "- Modulos agrupam funções, métodos e tipos específicos\n",
        "\n",
        "Pacotes são implementações Módulos disponíveis em Python \n",
        "- Há centenas de pacotes disponíveis em Python.\n",
        "\n",
        "Importação de Pacotes em Python (importa todo o pacote)\n",
        "- import pacote_desejado\n",
        "- import math\n",
        "\n",
        "Para usar funções do pacotes:\n",
        "- pacote_desejado.metodo_desejado(parametros)\n",
        "- pacote_desejado.variavel_desejada\n",
        "- math.pi\n",
        "\n",
        "Para importar apenas um módulo específico de um pacote, utilizamos:\n",
        "- from pacote_desejado import modulo_desejado\n",
        "\n",
        "Exemplo: importa só o pacote sqrt do pacote math\n",
        "\n",
        "- from math import sqrt    \n",
        "- print(sqrt(25))\n",
        "\n",
        "Ao utilizar \"from package import item\", o item pode ser um subpacote, submódulo, classe, função ou variável."
      ]
    },
    {
      "cell_type": "code",
      "execution_count": null,
      "metadata": {
        "id": "GPjXmEEKWtxF",
        "colab": {
          "base_uri": "https://localhost:8080/"
        },
        "outputId": "2ab8d985-bdbc-4ec7-b333-e6edfb20dc88"
      },
      "outputs": [
        {
          "output_type": "stream",
          "name": "stdout",
          "text": [
            "Circunferência: 2.701769682087222\n",
            "Área:  0.5808804816487527\n"
          ]
        }
      ],
      "source": [
        "# Exemplo\n",
        "# Importar pacote math \n",
        "import math\n",
        "\n",
        "# Definição de raio\n",
        "r = 0.43\n",
        "\n",
        "\n",
        "# Cálculo de C\n",
        "C = 2 * r * math.pi\n",
        "\n",
        "# Cálculo de A\n",
        "A = math.pi * r ** 2\n",
        "\n",
        "# print valores da Circunferência e Área\n",
        "print(\"Circunferência: \" + str(C))\n",
        "print(\"Área: \" , A)"
      ]
    },
    {
      "cell_type": "code",
      "execution_count": null,
      "metadata": {
        "id": "-iKw2qgxWtxJ",
        "colab": {
          "base_uri": "https://localhost:8080/"
        },
        "outputId": "35687529-e24f-416b-8a53-ee7cba7bba29"
      },
      "outputs": [
        {
          "output_type": "execute_result",
          "data": {
            "text/plain": [
              "['__doc__',\n",
              " '__loader__',\n",
              " '__name__',\n",
              " '__package__',\n",
              " '__spec__',\n",
              " 'acos',\n",
              " 'acosh',\n",
              " 'asin',\n",
              " 'asinh',\n",
              " 'atan',\n",
              " 'atan2',\n",
              " 'atanh',\n",
              " 'ceil',\n",
              " 'comb',\n",
              " 'copysign',\n",
              " 'cos',\n",
              " 'cosh',\n",
              " 'degrees',\n",
              " 'dist',\n",
              " 'e',\n",
              " 'erf',\n",
              " 'erfc',\n",
              " 'exp',\n",
              " 'expm1',\n",
              " 'fabs',\n",
              " 'factorial',\n",
              " 'floor',\n",
              " 'fmod',\n",
              " 'frexp',\n",
              " 'fsum',\n",
              " 'gamma',\n",
              " 'gcd',\n",
              " 'hypot',\n",
              " 'inf',\n",
              " 'isclose',\n",
              " 'isfinite',\n",
              " 'isinf',\n",
              " 'isnan',\n",
              " 'isqrt',\n",
              " 'lcm',\n",
              " 'ldexp',\n",
              " 'lgamma',\n",
              " 'log',\n",
              " 'log10',\n",
              " 'log1p',\n",
              " 'log2',\n",
              " 'modf',\n",
              " 'nan',\n",
              " 'nextafter',\n",
              " 'perm',\n",
              " 'pi',\n",
              " 'pow',\n",
              " 'prod',\n",
              " 'radians',\n",
              " 'remainder',\n",
              " 'sin',\n",
              " 'sinh',\n",
              " 'sqrt',\n",
              " 'tan',\n",
              " 'tanh',\n",
              " 'tau',\n",
              " 'trunc',\n",
              " 'ulp']"
            ]
          },
          "metadata": {},
          "execution_count": 16
        }
      ],
      "source": [
        "dir(math)"
      ]
    },
    {
      "cell_type": "code",
      "execution_count": null,
      "metadata": {
        "id": "VBsdcA05WtxO",
        "colab": {
          "base_uri": "https://localhost:8080/"
        },
        "outputId": "3aa7de57-06d9-48a3-a5fa-a637d8464d7d"
      },
      "outputs": [
        {
          "output_type": "stream",
          "name": "stdout",
          "text": [
            "40317.10572106901\n"
          ]
        }
      ],
      "source": [
        "# Exemplo de uso do pacote Math\n",
        "# Definição do raio\n",
        "r = 192500\n",
        "\n",
        "# Importar apenas a função radians do pacote math\n",
        "from math import radians \n",
        "\n",
        "# Calcular o arco correspondente a 12 graus.\n",
        "\n",
        "arco = r* radians(12)\n",
        "\n",
        "# Print o valor de arco\n",
        "print(arco)"
      ]
    },
    {
      "cell_type": "code",
      "execution_count": null,
      "metadata": {
        "id": "_aUREtLMWtxX",
        "colab": {
          "base_uri": "https://localhost:8080/"
        },
        "outputId": "cb1ebaa1-0c1a-4372-eff3-5374dbc96f2a"
      },
      "outputs": [
        {
          "output_type": "stream",
          "name": "stdout",
          "text": [
            "40317.10572106901\n"
          ]
        }
      ],
      "source": [
        "# Exemplo de uso do pacote Math\n",
        "# Definição do raio\n",
        "r = 192500\n",
        "\n",
        "# Importar apenas a função radians do pacote math, redefinindo o nome da função\n",
        "from math import radians as francisco\n",
        "\n",
        "# Calcular o arco correspondente a 12 graus.\n",
        "\n",
        "arco = r* francisco(12)\n",
        "\n",
        "# Print o valor de arco\n",
        "print(arco)"
      ]
    },
    {
      "cell_type": "markdown",
      "metadata": {
        "id": "vRZhUmX1Wtxd"
      },
      "source": [
        "Alguns exemplos de funções matemáticas:\n",
        "- import math\n"
      ]
    },
    {
      "cell_type": "code",
      "execution_count": null,
      "metadata": {
        "id": "glAsihQcWtxe",
        "colab": {
          "base_uri": "https://localhost:8080/"
        },
        "outputId": "759729f9-a74a-4915-9cb9-41321d1d4634"
      },
      "outputs": [
        {
          "output_type": "stream",
          "name": "stdout",
          "text": [
            "2.718281828459045\n",
            "3.141592653589793\n",
            "2.718281828459045\n",
            "-1.0\n",
            "1.0\n"
          ]
        }
      ],
      "source": [
        "#Exemplos de Uso de funções matemáticas do pacote Math\n",
        "import math\n",
        "print(math.exp(1.0))\n",
        "print(math.pi)\n",
        "print(math.e)\n",
        "print(math.cos( math.pi))\n",
        "teta = 0.7\n",
        "y = math.sin(teta) ** 2 + math.cos(teta) ** 2\n",
        "print(y)"
      ]
    },
    {
      "cell_type": "markdown",
      "metadata": {
        "id": "FLqPhjveWtxr"
      },
      "source": [
        "##  Comando de Controle de Fluxo\n",
        "- If\n",
        "\n",
        "    if (condição_lógica):\n",
        "         comando_1\n",
        "         comando_2\n",
        "         ...\n",
        "         comando_n\n",
        "         \n"
      ]
    },
    {
      "cell_type": "markdown",
      "metadata": {
        "id": "odpQMzYVWtxs"
      },
      "source": [
        "- If-then-Else\n",
        "\n",
        "    if (condição_lógica):\n",
        "         comando_1\n",
        "         comando_2\n",
        "         ...\n",
        "         comando_n\n",
        "     else:\n",
        "         comando_k1\n",
        "         comando_k2\n",
        "         ...\n",
        "         comando_kn"
      ]
    },
    {
      "cell_type": "markdown",
      "metadata": {
        "id": "Uihql0-0Wtxv"
      },
      "source": [
        "Descubra o erro do programa abaixo"
      ]
    },
    {
      "cell_type": "code",
      "execution_count": null,
      "metadata": {
        "id": "nitAEIyPWtxx",
        "colab": {
          "base_uri": "https://localhost:8080/"
        },
        "outputId": "aa50f28d-1819-484f-c97d-b3dd0872edb5"
      },
      "outputs": [
        {
          "output_type": "stream",
          "name": "stdout",
          "text": [
            "a é positivo \n"
          ]
        }
      ],
      "source": [
        "# Exemplo de uso do comando if\n",
        "\n",
        "a = 11\n",
        "if (a > 0):\n",
        " print (\"a é positivo \")"
      ]
    },
    {
      "cell_type": "code",
      "execution_count": null,
      "metadata": {
        "id": "qWCLZ4WlWtyD",
        "colab": {
          "base_uri": "https://localhost:8080/"
        },
        "outputId": "8aec5196-8ca1-43a1-ba21-52617b2fa546"
      },
      "outputs": [
        {
          "output_type": "stream",
          "name": "stdout",
          "text": [
            "Identação é FUNDAMENTAL em Python\n"
          ]
        }
      ],
      "source": [
        "# Exemplo  de uso do comando if\n",
        "a = -1\n",
        "if a > 0:\n",
        " print (\"a é positivo \")\n",
        "print(\"Identação é FUNDAMENTAL em Python\")"
      ]
    },
    {
      "cell_type": "code",
      "execution_count": null,
      "metadata": {
        "id": "jjzFHo89WtyN"
      },
      "outputs": [],
      "source": [
        "# Exemplo de uso do comando if-else\n",
        "a = -34\n",
        "if a > 0:\n",
        "  print (\"O valor de a é positivo\")\n",
        "else :\n",
        "  print (\"O valor de a não é positivo\")\n"
      ]
    },
    {
      "cell_type": "code",
      "execution_count": null,
      "metadata": {
        "id": "TPLZ6WLeWtyQ",
        "colab": {
          "base_uri": "https://localhost:8080/"
        },
        "outputId": "2a3b92cf-9144-43f4-9585-16a5f730ad57"
      },
      "outputs": [
        {
          "output_type": "stream",
          "name": "stdout",
          "text": [
            "a é positivo \n"
          ]
        }
      ],
      "source": [
        "# Exemplo de uso do comando if-elif-else\n",
        "a = 10\n",
        "if a == 0:\n",
        " print (\"a é zero \")\n",
        "elif a < 0:\n",
        " print (\"a é negativo \")\n",
        "else :\n",
        " print (\"a é positivo \")"
      ]
    },
    {
      "cell_type": "code",
      "execution_count": null,
      "metadata": {
        "id": "Kt3LS-bVrN1O",
        "colab": {
          "base_uri": "https://localhost:8080/"
        },
        "outputId": "b87b897c-5ca1-4aeb-daa2-9ff1ac4da4ae"
      },
      "outputs": [
        {
          "output_type": "stream",
          "name": "stdout",
          "text": [
            " entre com o valor de um número inteiro: \n",
            "2500\n",
            "O valor eh maior ou igual a 1000\n"
          ]
        }
      ],
      "source": [
        "# Exemplo de uso de IF-ELIF\n",
        "\n",
        "# atribuindo um valor qualquer a uma variavel\n",
        "\n",
        "print(\" entre com o valor de um número inteiro: \")\n",
        "x = int(input())\n",
        "\n",
        "# verificando o valor da variavel\n",
        "if x<0:\n",
        "  print('O valor eh negativo')\n",
        "elif x<10:\n",
        "  print('O valor eh menor que 10')\n",
        "elif x<20:\n",
        "  print('O valor eh menor que 20')\n",
        "elif x<30:\n",
        "  print('O valor eh menor que 30')\n",
        "elif x<40:\n",
        "  print('O valor eh menor que 40')\n",
        "elif x<50:\n",
        "  print('O valor eh menor que 50')\n",
        "elif x<100:\n",
        "  print('O valor eh menor que 100')\n",
        "elif x<500:\n",
        "  print('O valor eh menor que 500')\n",
        "elif x<1000:\n",
        "  print('O valor eh menor que 1000')\n",
        "else:\n",
        "  print('O valor eh maior ou igual a 1000')"
      ]
    },
    {
      "cell_type": "code",
      "execution_count": null,
      "metadata": {
        "id": "mXzhLg3KqlZH"
      },
      "outputs": [],
      "source": [
        "# Exercício 20 \n",
        "\n",
        "# Leia tres string\n",
        "print(\"Digite a string1:\")\n",
        "string1 = input()\n",
        "print(\"Digite a string2:\")\n",
        "string2 = input()\n",
        "print(\"Digite a string3:\")\n",
        "string3 = input()\n",
        "\n",
        "# Verifique se ao menos duas delas sao iguais entre si (imprima um aviso)\n",
        "if string1 == string2 or string1 == string3 or string2 == string3:\n",
        "  print(\"Pelo menos 2 das strings são iguais.\") \n",
        "# ou se todas sao diferentes entre si (imprima outro aviso)\n",
        "else:\n",
        "  print(\"As 3 strings são diferentes.\") "
      ]
    },
    {
      "cell_type": "code",
      "execution_count": null,
      "metadata": {
        "id": "_Th6fvVU_sdQ"
      },
      "outputs": [],
      "source": [
        "\n",
        "# Exemplo de uso do comando if-else alinhado\n",
        "a = -34\n",
        "b = 10\n",
        "\n",
        "if (a > 0):\n",
        "  if (b >0):\n",
        "   print (\"O valor de a é positivo e valor de b é positivo\")\n",
        "  else:\n",
        "   print (\"O valor de a é positivo e valor de b não é positivo\")\n",
        "else :\n",
        "  if (b> 0) :\n",
        "   print (\"O valor de a não é positivo e o valor de b é positivo\")\n",
        "  else :  \n",
        "   print (\"O valor de a não é positivo e o valor de b nao é positivo\")\n"
      ]
    },
    {
      "cell_type": "code",
      "execution_count": null,
      "metadata": {
        "id": "iNKZBw8iBEgh",
        "colab": {
          "base_uri": "https://localhost:8080/"
        },
        "outputId": "80753982-462c-4bfb-c755-2fb1eaebb1e0"
      },
      "outputs": [
        {
          "output_type": "stream",
          "name": "stdout",
          "text": [
            "O valor de a não é positivo e o valor de b é positivo\n"
          ]
        }
      ],
      "source": [
        "# Exercício 21 \n",
        "# Implemente o programa anterior com if-elif-else\n",
        "a = -34\n",
        "b = 10\n",
        "\n",
        "if (a > 0) and (b > 0):\n",
        "  print (\"O valor de a é positivo e valor de b é positivo\")\n",
        "elif (a > 0) and (b < 0):\n",
        "   print (\"O valor de a é positivo e valor de b não é positivo\")\n",
        "elif (a < 0) and (b > 0):\n",
        "  print (\"O valor de a não é positivo e o valor de b é positivo\")\n",
        "else:\n",
        "  print (\"O valor de a não é positivo e o valor de b nao é positivo\")\n",
        "  "
      ]
    },
    {
      "cell_type": "markdown",
      "metadata": {
        "id": "ihFKz5xBZe0n"
      },
      "source": [
        "### Programa Desafio 2\n",
        "- Utilize o Programa Desafio 1 como base.\n",
        "- solicite o Nome, Sexo, Peso e Altura.\n",
        "- Calcule o IMC\n",
        "- Dê o diagnóstivo:\n",
        "  - Se for homem:\n",
        "    - menor que 20 --> abaixo do peso\n",
        "   - entre 20 e 25 --> normal\n",
        "    - entre 25 e 30 --> sobrepeso\n",
        "    - acima de 30  --> obesso\n",
        " \n",
        " - Se for mulher:\n",
        "    - menor que 19 --> abaixo do peso\n",
        "    - entre 19 e 24 --> normal\n",
        "    - entre 24 e 29 --> sobrepeso\n",
        "    - acima de 29  --> obesso\n",
        "\n",
        "\n",
        "Exemplo:\n",
        " Maria, baseado no seu IMC, você está abaixo do peso."
      ]
    },
    {
      "cell_type": "code",
      "execution_count": null,
      "metadata": {
        "id": "O-RZ8QslZV48",
        "colab": {
          "base_uri": "https://localhost:8080/"
        },
        "outputId": "5834ff57-a746-407a-83b0-397c758ba429"
      },
      "outputs": [
        {
          "output_type": "stream",
          "name": "stdout",
          "text": [
            "Por obséquio, forneça o seu nome? \n",
            "Estevo\n",
            "Por favor, informe seu sexo m : masculino | f : feminino \n",
            "m\n",
            "Se não for inoportuno, foneça o seu peso? Prometo menter essa informação em sigilo\n",
            "73.2\n",
            "Qual é a sua altura? \n",
            "1.73\n",
            "Estevo  o seu IMC é  24.45788365799058\n",
            "\n",
            "Muito bemm você está com o peso ideal.\n"
          ]
        }
      ],
      "source": [
        "# Código do Programa Desafio 2\n",
        "\n",
        "\n",
        "print(\"Por obséquio, forneça o seu nome? \")\n",
        "nome = input()\n",
        "\n",
        "print(\"Por favor, informe seu sexo m : masculino | f : feminino \")\n",
        "sexo = input()\n",
        "\n",
        "print(\"Se não for inoportuno, foneça o seu peso? Prometo menter essa informação em sigilo\")\n",
        "peso = input()\n",
        "peso = float(peso)\n",
        "\n",
        "\n",
        "print(\"Qual é a sua altura? \")\n",
        "altura = input()\n",
        "altura = float(altura)\n",
        "\n",
        "# Cálculo do IMC\n",
        "IMC = peso /altura**2\n",
        "\n",
        "# Saída do programa\n",
        "print(nome, \" o seu IMC é \", IMC)\n",
        "print()\n",
        "\n",
        "if sexo == 'm' and IMC < 20:\n",
        "  print(\"Você está abaixo do peso.\")\n",
        "elif sexo == 'm' and IMC >= 20 and IMC < 25:\n",
        "  print(\"Muito bemm você está com o peso ideal.\")\n",
        "elif sexo == 'm' and IMC >= 25 and IMC < 30:\n",
        "  print(\"Você está com sobrepeso.\")\n",
        "elif sexo == 'm' and IMC >= 30:\n",
        "  print(\"Você está obeso, precisa de uma academia.\")\n",
        "elif sexo == 'f' and IMC < 19:\n",
        "  print(\"Você está abaixo do peso.\")\n",
        "elif sexo == 'f' and IMC >= 19 and IMC < 24:\n",
        "  print(\"Muito bemm você está com o peso ideal.\")\n",
        "elif sexo == 'f' and IMC >= 24 and IMC < 29:\n",
        "  print(\"Você está com sobrepeso.\")\n",
        "elif sexo == 'f' and IMC >= 29:\n",
        "  print(\"Você está obeso, precisa de uma academia.\")\n"
      ]
    },
    {
      "cell_type": "markdown",
      "metadata": {
        "id": "HlcqdyNxWtyg"
      },
      "source": [
        "##  Comando de repetição (loops)\n",
        "- Comando for\n",
        "\n",
        "    for (variavel) in (sequencia):\n",
        "       comando_1\n",
        "       comando_2\n",
        "       ...\n",
        "       comando_n\n",
        "- Comando while\n",
        "    \n",
        "    while (condicao):\n",
        "       comando_1\n",
        "       comando_2\n",
        "       ...\n",
        "       comando_n"
      ]
    },
    {
      "cell_type": "markdown",
      "metadata": {
        "id": "I-MaEPPdwfiz"
      },
      "source": [
        "### Nota:\n",
        " - O comando for é usado para percorrer uma sequência qualquer."
      ]
    },
    {
      "cell_type": "code",
      "execution_count": null,
      "metadata": {
        "id": "GosKA8-OwJps",
        "colab": {
          "base_uri": "https://localhost:8080/"
        },
        "outputId": "4f65acf2-27b2-4b91-92bc-949fd1944b4f"
      },
      "outputs": [
        {
          "output_type": "stream",
          "name": "stdout",
          "text": [
            "b\n",
            "a\n",
            "n\n",
            "a\n",
            "n\n",
            "a\n"
          ]
        }
      ],
      "source": [
        "# Exemplo de uso do comando for\n",
        "for letter in \"banana\":\n",
        "   print(letter)"
      ]
    },
    {
      "cell_type": "markdown",
      "metadata": {
        "id": "F79jSvWYwsWs"
      },
      "source": [
        "- Também podemos percorrer um intervalo numerico com o range."
      ]
    },
    {
      "cell_type": "code",
      "execution_count": null,
      "metadata": {
        "id": "uCSsy8_dwXGB",
        "colab": {
          "base_uri": "https://localhost:8080/"
        },
        "outputId": "2048ec67-0c5a-4a60-a6f2-110560934cb5"
      },
      "outputs": [
        {
          "output_type": "stream",
          "name": "stdout",
          "text": [
            "0\n",
            "1\n",
            "2\n",
            "3\n",
            "4\n",
            "5\n",
            "6\n",
            "7\n",
            "8\n",
            "9\n"
          ]
        }
      ],
      "source": [
        "# Exemplo de uso do comando for\n",
        "\n",
        "for number in range(10):\n",
        "  print(number)"
      ]
    },
    {
      "cell_type": "code",
      "execution_count": null,
      "metadata": {
        "id": "OeZYS7fzw2xH",
        "colab": {
          "base_uri": "https://localhost:8080/"
        },
        "outputId": "9e46f270-d242-45f8-e71a-616a5e0344fc"
      },
      "outputs": [
        {
          "output_type": "stream",
          "name": "stdout",
          "text": [
            "O numero é 5\n",
            "O numero é 6\n",
            "O numero é 7\n",
            "O numero é 8\n",
            "O numero é 9\n",
            "O numero é 10\n",
            "O numero é 11\n",
            "O numero é 12\n",
            "O numero é 13\n",
            "O numero é 14\n"
          ]
        }
      ],
      "source": [
        "# Exemplo de uso do comando for\n",
        "\n",
        "for x in range(5, 15):\n",
        "  print('O numero é ' + str(x))"
      ]
    },
    {
      "cell_type": "code",
      "execution_count": null,
      "metadata": {
        "id": "nx2n_og5xLA-",
        "colab": {
          "base_uri": "https://localhost:8080/"
        },
        "outputId": "ff384d5e-9fd6-492e-8e6a-291928a7efdc"
      },
      "outputs": [
        {
          "output_type": "stream",
          "name": "stdout",
          "text": [
            " entre com um número inteiro positivo: \n",
            "5\n",
            "0 x 5 = 0\n",
            "1 x 5 = 5\n",
            "2 x 5 = 10\n",
            "3 x 5 = 15\n",
            "4 x 5 = 20\n",
            "5 x 5 = 25\n",
            "6 x 5 = 30\n",
            "7 x 5 = 35\n",
            "8 x 5 = 40\n",
            "9 x 5 = 45\n"
          ]
        }
      ],
      "source": [
        "# Exercício 21 \n",
        "# Implemente um laco que imprima a tabuada de um número\n",
        "\n",
        "print(\" entre com um número inteiro positivo: \")\n",
        "base = int(input())\n",
        "\n",
        "# Escreve o restante do código utilizando o comendo for\n",
        "for number in range(10):\n",
        "  print(f\"{number} x {base} =\", number*base)\n",
        "\n"
      ]
    },
    {
      "cell_type": "code",
      "execution_count": null,
      "metadata": {
        "id": "aCK7XiE3ydLN",
        "colab": {
          "base_uri": "https://localhost:8080/"
        },
        "outputId": "07075a36-7a80-4a16-e413-6d7bab6bcca4"
      },
      "outputs": [
        {
          "output_type": "stream",
          "name": "stdout",
          "text": [
            "O range() pode ter o passo entre os elementos especificados.\n",
            "Neste exemplo, o passo é 10\n",
            "O numero eh 0\n",
            "O numero eh 10\n",
            "O numero eh 20\n",
            "O numero eh 30\n",
            "O numero eh 40\n",
            "O numero eh 50\n",
            "O numero eh 60\n",
            "O numero eh 70\n",
            "O numero eh 80\n",
            "O numero eh 90\n"
          ]
        }
      ],
      "source": [
        "# Exemplo - uso do comando for\n",
        "\n",
        "print(\"O range() pode ter o passo entre os elementos especificados.\")\n",
        "print( \"Neste exemplo, o passo é 10\")\n",
        "\n",
        "for y in range(0, 100, 10):\n",
        "  print('O numero eh ' + str(y))"
      ]
    },
    {
      "cell_type": "code",
      "execution_count": null,
      "metadata": {
        "id": "zzSjDSvrzBDA",
        "colab": {
          "base_uri": "https://localhost:8080/"
        },
        "outputId": "b982dc5d-36e5-4119-f3e1-13f4fcba9d32"
      },
      "outputs": [
        {
          "output_type": "stream",
          "name": "stdout",
          "text": [
            "0\n",
            "5\n",
            "10\n",
            "15\n",
            "20\n",
            "25\n",
            "30\n",
            "35\n",
            "40\n",
            "45\n",
            "50\n"
          ]
        }
      ],
      "source": [
        "# Exercíco 22 \n",
        "\n",
        "# Implemente um laco que exiba os multiplos de 5 entre 0 e 50 (inclusive)\n",
        "for i in range(51):\n",
        "  if i % 5 == 0:\n",
        "    print(i)"
      ]
    },
    {
      "cell_type": "code",
      "execution_count": null,
      "metadata": {
        "id": "3Iozwd8KWtyi",
        "colab": {
          "base_uri": "https://localhost:8080/"
        },
        "outputId": "d6151f22-1c33-4fee-88e1-8ce4ff89c00d"
      },
      "outputs": [
        {
          "output_type": "stream",
          "name": "stdout",
          "text": [
            "Primeiro print\n",
            "2\n",
            "3\n",
            "4\n",
            "Segundo print\n",
            "0\n",
            "1\n",
            "2\n",
            "3\n",
            "4\n",
            "Terceiro print\n",
            "p y t h o n "
          ]
        }
      ],
      "source": [
        "# Exemplos de uso do comando for\n",
        "print(\"Primeiro print\")\n",
        "for i in range(2,5):\n",
        "    print(i)\n",
        "print(\"Segundo print\")\n",
        "for i in range(5):\n",
        "    print(i)\n",
        "print(\"Terceiro print\")\n",
        "lista = [\"p\", \"y\", \"t\", \"h\", \"o\", \"n\"]\n",
        "for item in lista:\n",
        "    print (item, end=' ')"
      ]
    },
    {
      "cell_type": "code",
      "execution_count": null,
      "metadata": {
        "id": "hUxvQ8URWtyp",
        "colab": {
          "base_uri": "https://localhost:8080/"
        },
        "outputId": "b25776d0-01c3-4d97-e7bb-0fe56fa46a5e"
      },
      "outputs": [
        {
          "output_type": "stream",
          "name": "stdout",
          "text": [
            "1\n",
            "2\n",
            "6\n"
          ]
        }
      ],
      "source": [
        "# Exemplo de uso do comando for\n",
        "for x in [1,2,6]:\n",
        " print(x)"
      ]
    },
    {
      "cell_type": "code",
      "execution_count": null,
      "metadata": {
        "id": "jNXGoyp4Wtyt",
        "colab": {
          "base_uri": "https://localhost:8080/"
        },
        "outputId": "7b9d4d50-586b-4c5a-94b9-331f03c81c90"
      },
      "outputs": [
        {
          "output_type": "stream",
          "name": "stdout",
          "text": [
            "Uso do enumerate para se obter índice numérico\n",
            "0 p\n",
            "1 y\n",
            "2 t\n",
            "3 h\n",
            "4 o\n",
            "5 n\n"
          ]
        }
      ],
      "source": [
        "# Exemplo de uso do comando for\n",
        "print(\"Uso do enumerate para se obter índice numérico\")\n",
        "for indice, valor in enumerate([\"p\", \"y\", \"t\", \"h\", \"o\", \"n\"]):\n",
        "    print (indice, valor)"
      ]
    },
    {
      "cell_type": "code",
      "execution_count": null,
      "metadata": {
        "id": "5Q1XZhItWtyz",
        "colab": {
          "base_uri": "https://localhost:8080/"
        },
        "outputId": "a0b27525-8860-4069-b533-864f6cd8e0de"
      },
      "outputs": [
        {
          "output_type": "stream",
          "name": "stdout",
          "text": [
            "[0, 1, 4, 9, 16]\n"
          ]
        }
      ],
      "source": [
        "#Exemplo - É possível implementar do comando \"for\" via lista\n",
        "lista1 = [x**2 for x in range(0,5)]\n",
        "print(lista1)"
      ]
    },
    {
      "cell_type": "code",
      "execution_count": null,
      "metadata": {
        "id": "eCOKf5SXWty3",
        "colab": {
          "base_uri": "https://localhost:8080/"
        },
        "outputId": "0610e97b-c2ee-44b8-9db1-292cb106e866"
      },
      "outputs": [
        {
          "output_type": "execute_result",
          "data": {
            "text/plain": [
              "[bool, str, float, int]"
            ]
          },
          "metadata": {},
          "execution_count": 46
        }
      ],
      "source": [
        "#Exemplo - É possível implementar do comando \"for\" via lista\n",
        "lista2 = [True, \"2\", 3.0, 4]\n",
        "[type(item) for item in lista2]"
      ]
    },
    {
      "cell_type": "markdown",
      "metadata": {
        "id": "L1Vy98sEzOMN"
      },
      "source": [
        "### Nota:\n",
        "-É possivel encadear um laco dentro de outro (sem limites)."
      ]
    },
    {
      "cell_type": "code",
      "execution_count": null,
      "metadata": {
        "id": "Rc4987AlzWaL",
        "colab": {
          "base_uri": "https://localhost:8080/"
        },
        "outputId": "6b939b67-55c7-4eac-b220-20f972036d7c"
      },
      "outputs": [
        {
          "output_type": "stream",
          "name": "stdout",
          "text": [
            "O valor de a é: 0\n",
            " \t O valor de b é: 0\n",
            " \t O valor de b é: 1\n",
            " \t O valor de b é: 2\n",
            " \t O valor de b é: 3\n",
            " \t O valor de b é: 4\n",
            "O valor de a é: 1\n",
            " \t O valor de b é: 0\n",
            " \t O valor de b é: 1\n",
            " \t O valor de b é: 2\n",
            " \t O valor de b é: 3\n",
            " \t O valor de b é: 4\n",
            "O valor de a é: 2\n",
            " \t O valor de b é: 0\n",
            " \t O valor de b é: 1\n",
            " \t O valor de b é: 2\n",
            " \t O valor de b é: 3\n",
            " \t O valor de b é: 4\n",
            "O valor de a é: 3\n",
            " \t O valor de b é: 0\n",
            " \t O valor de b é: 1\n",
            " \t O valor de b é: 2\n",
            " \t O valor de b é: 3\n",
            " \t O valor de b é: 4\n",
            "O valor de a é: 4\n",
            " \t O valor de b é: 0\n",
            " \t O valor de b é: 1\n",
            " \t O valor de b é: 2\n",
            " \t O valor de b é: 3\n",
            " \t O valor de b é: 4\n",
            "O valor de a é: 5\n",
            " \t O valor de b é: 0\n",
            " \t O valor de b é: 1\n",
            " \t O valor de b é: 2\n",
            " \t O valor de b é: 3\n",
            " \t O valor de b é: 4\n",
            "O valor de a é: 6\n",
            " \t O valor de b é: 0\n",
            " \t O valor de b é: 1\n",
            " \t O valor de b é: 2\n",
            " \t O valor de b é: 3\n",
            " \t O valor de b é: 4\n",
            "O valor de a é: 7\n",
            " \t O valor de b é: 0\n",
            " \t O valor de b é: 1\n",
            " \t O valor de b é: 2\n",
            " \t O valor de b é: 3\n",
            " \t O valor de b é: 4\n",
            "O valor de a é: 8\n",
            " \t O valor de b é: 0\n",
            " \t O valor de b é: 1\n",
            " \t O valor de b é: 2\n",
            " \t O valor de b é: 3\n",
            " \t O valor de b é: 4\n",
            "O valor de a é: 9\n",
            " \t O valor de b é: 0\n",
            " \t O valor de b é: 1\n",
            " \t O valor de b é: 2\n",
            " \t O valor de b é: 3\n",
            " \t O valor de b é: 4\n"
          ]
        }
      ],
      "source": [
        "# Exemplo for encadeado\n",
        "\n",
        "for a in range(0,10):\n",
        "  print(\"O valor de a é: \" + str(a))\n",
        "  for b in range(0,5):\n",
        "    print(\" \\t O valor de b é: \" + str(b))"
      ]
    },
    {
      "cell_type": "code",
      "execution_count": null,
      "metadata": {
        "id": "WO874PKfWty8",
        "colab": {
          "base_uri": "https://localhost:8080/"
        },
        "outputId": "3dc69f17-684c-4f28-dc30-cc96ae50c53f"
      },
      "outputs": [
        {
          "output_type": "stream",
          "name": "stdout",
          "text": [
            "0\n",
            "1\n",
            "2\n",
            "3\n",
            "4\n",
            "5\n"
          ]
        }
      ],
      "source": [
        "# Exemplo de uso do comando while\n",
        "count = 0\n",
        "while count <= 5:\n",
        "    print(count)\n",
        "    count += 1"
      ]
    },
    {
      "cell_type": "code",
      "execution_count": null,
      "metadata": {
        "id": "y7Qc_tDqWtzA",
        "colab": {
          "base_uri": "https://localhost:8080/"
        },
        "outputId": "f1fab611-6e39-4853-9ee5-1af0129e5edc"
      },
      "outputs": [
        {
          "output_type": "stream",
          "name": "stdout",
          "text": [
            "0\n",
            "1\n",
            "2\n",
            "3\n"
          ]
        }
      ],
      "source": [
        "# Exemplo de uso do comando while com break\n",
        "count = 0\n",
        "while count <= 5:\n",
        "    print(count)\n",
        "    count += 1\n",
        "    if count > 3: break"
      ]
    },
    {
      "cell_type": "code",
      "execution_count": 4,
      "metadata": {
        "id": "AIFplMKNWtzD",
        "colab": {
          "base_uri": "https://localhost:8080/"
        },
        "outputId": "27ceead2-ddf0-478b-c079-ea44952455f9"
      },
      "outputs": [
        {
          "output_type": "stream",
          "name": "stdout",
          "text": [
            "0\n",
            "1\n",
            "2\n",
            "0\n",
            "1\n",
            "2\n",
            "3\n",
            "4\n",
            "após iteração\n"
          ]
        }
      ],
      "source": [
        "# Comando else no final de um loop é executado após o término do loop\n",
        "#\n",
        "# Loop while\n",
        "#\n",
        "count = 0\n",
        "while count <= 5:\n",
        "    print(count)\n",
        "    count += 1\n",
        "    if(count == 3):break\n",
        "else:\n",
        "    print('após iteração')\n",
        "\n",
        "#\n",
        "# Loop for\n",
        "#\n",
        "for i in range(5):\n",
        "    print(i)\n",
        "else:\n",
        "    print('após iteração')\n"
      ]
    },
    {
      "cell_type": "markdown",
      "metadata": {
        "id": "YwXCn5UyWtzI"
      },
      "source": [
        "## Definição de Função em Python\n",
        "    \n",
        "    def funcao(lista_parametros):\n",
        "       comando_1\n",
        "       comando_2\n",
        "       ...\n",
        "       comando_n\n",
        "       return(variavel_de_saida)"
      ]
    },
    {
      "cell_type": "markdown",
      "metadata": {
        "id": "Ra8NPh0nu5-L"
      },
      "source": [
        "### Função:\n",
        "- função sem valor de retorno - procedimento"
      ]
    },
    {
      "cell_type": "code",
      "execution_count": null,
      "metadata": {
        "id": "gouic33wWtzK"
      },
      "outputs": [],
      "source": [
        "# exemplo de função sem retorno de variáveis\n",
        "\n",
        "def hello(meu_nome):\n",
        "  print('Olá,',meu_nome, \"kkk\")"
      ]
    },
    {
      "cell_type": "code",
      "execution_count": null,
      "metadata": {
        "colab": {
          "base_uri": "https://localhost:8080/"
        },
        "id": "5eVsjzx1WtzY",
        "outputId": "ad44be2d-5866-40da-bcb0-af32f909196b"
      },
      "outputs": [
        {
          "output_type": "stream",
          "name": "stdout",
          "text": [
            "Olá, John Snow. You know nothing! kkk\n"
          ]
        }
      ],
      "source": [
        "hello(\"John Snow. You know nothing!\")"
      ]
    },
    {
      "cell_type": "markdown",
      "metadata": {
        "id": "pZtaxUbcuJod"
      },
      "source": [
        "### Função:\n",
        "- Uso de parâmetros Defaults "
      ]
    },
    {
      "cell_type": "code",
      "execution_count": 5,
      "metadata": {
        "id": "HSzogyqcWtzg"
      },
      "outputs": [],
      "source": [
        "def hello(meu_nome,idade=10):\n",
        "  print('Olá, ',meu_nome,'\\nSua idade é:',idade)"
      ]
    },
    {
      "cell_type": "code",
      "execution_count": 6,
      "metadata": {
        "id": "LGqJSKCzWtzm",
        "colab": {
          "base_uri": "https://localhost:8080/"
        },
        "outputId": "9835aee6-ab14-4cc9-d033-2bba385a293c"
      },
      "outputs": [
        {
          "output_type": "stream",
          "name": "stdout",
          "text": [
            "Olá,  João da Silva \n",
            "Sua idade é: 21\n"
          ]
        }
      ],
      "source": [
        "hello(\"João da Silva\", 21)"
      ]
    },
    {
      "cell_type": "code",
      "execution_count": 7,
      "metadata": {
        "id": "fIEMsGA3Wtzt",
        "colab": {
          "base_uri": "https://localhost:8080/"
        },
        "outputId": "104adb46-7312-4611-bf82-af1f978584bc"
      },
      "outputs": [
        {
          "output_type": "stream",
          "name": "stdout",
          "text": [
            "Olá,  João da Silva \n",
            "Sua idade é: 10\n"
          ]
        }
      ],
      "source": [
        "hello(\"João da Silva\")"
      ]
    },
    {
      "cell_type": "code",
      "execution_count": 13,
      "metadata": {
        "id": "cbKZxFjkucCl"
      },
      "outputs": [],
      "source": [
        "# Exercíco - Reescreva a função hello(), acrescentando o parâmetro default altura = 1.73\n",
        "def hello(meu_nome,idade=10, altura=1.73):\n",
        "  print('Olá, ',meu_nome,'\\nSua idade é: ',idade)"
      ]
    },
    {
      "cell_type": "code",
      "execution_count": 14,
      "metadata": {
        "id": "h3OAwJOAuyEf",
        "colab": {
          "base_uri": "https://localhost:8080/"
        },
        "outputId": "0f188614-b1f3-4bc0-acf2-36399c5091c3"
      },
      "outputs": [
        {
          "output_type": "stream",
          "name": "stdout",
          "text": [
            "Olá,  João da Silva \n",
            "Sua idade é:  10\n"
          ]
        }
      ],
      "source": [
        "hello(\"João da Silva\")"
      ]
    },
    {
      "cell_type": "markdown",
      "metadata": {
        "id": "O1RflDZPvLbS"
      },
      "source": [
        "### Função:\n",
        "- função com valor de retorno"
      ]
    },
    {
      "cell_type": "code",
      "execution_count": 15,
      "metadata": {
        "id": "OzsKMlwNWtz3"
      },
      "outputs": [],
      "source": [
        "# Exemplo de função com valor de retorno\n",
        "def calcular_pagamento(horas, taxa):\n",
        " salario=float(horas)*float(taxa)\n",
        " return (salario)"
      ]
    },
    {
      "cell_type": "code",
      "execution_count": 19,
      "metadata": {
        "id": "rMFpatabWtz-",
        "colab": {
          "base_uri": "https://localhost:8080/"
        },
        "outputId": "05df33b2-9d02-4bcf-f49b-8b64c10d56e9"
      },
      "outputs": [
        {
          "output_type": "stream",
          "name": "stdout",
          "text": [
            "O valor de seus rendimentos é R$ 800.0\n"
          ]
        }
      ],
      "source": [
        "total_salario = calcular_pagamento(40,20)\n",
        "print('O valor de seus rendimentos é R$',total_salario)"
      ]
    },
    {
      "cell_type": "code",
      "execution_count": 18,
      "metadata": {
        "id": "Dm-U6r0pWt0L",
        "colab": {
          "base_uri": "https://localhost:8080/"
        },
        "outputId": "7666cf0b-978d-4c24-e028-5b075c7b9cd6"
      },
      "outputs": [
        {
          "name": "stdout",
          "output_type": "stream",
          "text": [
            "Digite as horas: 160\n",
            "Digite a taxa: 85\n"
          ]
        }
      ],
      "source": [
        "str_horas= input('Digite as horas: ')\n",
        "str_taxa=input('Digite a taxa: ')"
      ]
    },
    {
      "cell_type": "code",
      "execution_count": 20,
      "metadata": {
        "id": "S2cORsX7Wt0a",
        "colab": {
          "base_uri": "https://localhost:8080/"
        },
        "outputId": "eb21a26a-f5ce-4a28-9b24-bfaa10f9aade"
      },
      "outputs": [
        {
          "output_type": "stream",
          "name": "stdout",
          "text": [
            "160\n",
            "85\n"
          ]
        }
      ],
      "source": [
        "print(str_horas)\n",
        "print(str_taxa)\n",
        "float_horas = float(str_horas)\n",
        "float_taxa = float(str_taxa)"
      ]
    },
    {
      "cell_type": "code",
      "execution_count": 21,
      "metadata": {
        "id": "4_En37fHWt0g",
        "colab": {
          "base_uri": "https://localhost:8080/"
        },
        "outputId": "41966f6b-70f0-43d1-e7d5-0d403ff8e5be"
      },
      "outputs": [
        {
          "output_type": "stream",
          "name": "stdout",
          "text": [
            "160.0\n",
            "85.0\n",
            "O valor de seus rendimentos é R$ 13600.0\n"
          ]
        }
      ],
      "source": [
        "print(float_horas)\n",
        "print(float_taxa)\n",
        "total_salario = calcular_pagamento(float_horas,float_taxa)\n",
        "print('O valor de seus rendimentos é R$',total_salario)"
      ]
    },
    {
      "cell_type": "code",
      "execution_count": 22,
      "metadata": {
        "id": "VPndZJMhWtz1"
      },
      "outputs": [],
      "source": [
        "# Segunda versão da função calculo_pagamento\n",
        "def calcular_pagamento(qtd_horas, valor_hora):\n",
        "    horas = float(qtd_horas)\n",
        "    taxa = float(valor_hora)\n",
        "    if horas <= 40:\n",
        "        salario=horas*taxa\n",
        "    else:\n",
        "        h_excd = horas - 40\n",
        "        salario = 40*taxa+(h_excd*(1.5*taxa))\n",
        "    return (salario)"
      ]
    },
    {
      "cell_type": "code",
      "execution_count": 23,
      "metadata": {
        "id": "-OvmVJnhsXTD",
        "colab": {
          "base_uri": "https://localhost:8080/"
        },
        "outputId": "3b1a1416-b019-4851-9839-17c7989c70b9"
      },
      "outputs": [
        {
          "output_type": "execute_result",
          "data": {
            "text/plain": [
              "400.0"
            ]
          },
          "metadata": {},
          "execution_count": 23
        }
      ],
      "source": [
        "calcular_pagamento(20,20)"
      ]
    },
    {
      "cell_type": "markdown",
      "metadata": {
        "id": "9Ery8NSYtmZp"
      },
      "source": [
        "### Função:\n",
        "- Como ficam as variáveis definidas dentro de uma função?"
      ]
    },
    {
      "cell_type": "code",
      "execution_count": null,
      "metadata": {
        "id": "yewlnnqEtwQ8"
      },
      "outputs": [],
      "source": [
        "# Exemplo de comportamento de variáveis definidas dentro de função\n",
        "def f():\n",
        "  x = 10\n",
        "  print(x)\n"
      ]
    },
    {
      "cell_type": "code",
      "execution_count": null,
      "metadata": {
        "id": "8lnRYTKlvd02",
        "colab": {
          "base_uri": "https://localhost:8080/"
        },
        "outputId": "9f38eadb-4b53-438e-e176-c1079494d4ab"
      },
      "outputs": [
        {
          "output_type": "stream",
          "name": "stdout",
          "text": [
            "10\n",
            "100\n"
          ]
        }
      ],
      "source": [
        "x = 100\n",
        "f()\n",
        "print(x)"
      ]
    },
    {
      "cell_type": "code",
      "execution_count": null,
      "metadata": {
        "id": "nbedu6y5wDxo"
      },
      "outputs": [],
      "source": [
        "# Exemplo de comportamento de variáveis definidas dentro de função\n",
        "def f(x):\n",
        "  x = 10\n",
        "  print(x)\n",
        "  "
      ]
    },
    {
      "cell_type": "code",
      "execution_count": null,
      "metadata": {
        "id": "rqur7zRTwQ_n",
        "colab": {
          "base_uri": "https://localhost:8080/"
        },
        "outputId": "8e725e9e-e452-40af-fe98-c364fecc6da9"
      },
      "outputs": [
        {
          "output_type": "stream",
          "name": "stdout",
          "text": [
            "10\n",
            "100\n"
          ]
        }
      ],
      "source": [
        "x = 100\n",
        "f(x)\n",
        "print(x)"
      ]
    },
    {
      "cell_type": "markdown",
      "metadata": {
        "id": "cIJ0dN0EwcDl"
      },
      "source": [
        "### Função:\n",
        "- Como utilizar uma variável externa dentro da função?"
      ]
    },
    {
      "cell_type": "code",
      "execution_count": null,
      "metadata": {
        "id": "rCeqtaTYwyCb"
      },
      "outputs": [],
      "source": [
        "# Exemplo de comportamento de variáveis definidas dentro de função\n",
        "# Como utilizar uma variável externa dentro de uma função\n",
        "\n",
        "def f():\n",
        "  global x\n",
        "  x = 10\n",
        "  print(x)"
      ]
    },
    {
      "cell_type": "code",
      "execution_count": null,
      "metadata": {
        "id": "zm_fVevQxDY1",
        "colab": {
          "base_uri": "https://localhost:8080/"
        },
        "outputId": "508954b3-ae9c-4824-b65c-f9d9398b0ffa"
      },
      "outputs": [
        {
          "output_type": "stream",
          "name": "stdout",
          "text": [
            "10\n",
            "10\n",
            "Ufa. deu certo.\n"
          ]
        }
      ],
      "source": [
        "x = 100\n",
        "f()\n",
        "print(x)\n",
        "print(\"Ufa. deu certo.\")"
      ]
    },
    {
      "cell_type": "markdown",
      "metadata": {
        "id": "YofXX0ynwzzj"
      },
      "source": [
        "### Função:\n",
        "- É possível uma função retornar mais de uma variável?"
      ]
    },
    {
      "cell_type": "code",
      "execution_count": null,
      "metadata": {
        "id": "POkESbSTWt0l",
        "colab": {
          "base_uri": "https://localhost:8080/"
        },
        "outputId": "df758ccb-1e94-4ba5-c358-db8a1502cded"
      },
      "outputs": [
        {
          "output_type": "stream",
          "name": "stdout",
          "text": [
            "Programa com exemplo para função que retorna mais de uma variável.\n",
            "(4, 8, 16)\n",
            "x2= 9  x3= 27 x4= 81\n"
          ]
        }
      ],
      "source": [
        "# Exemplo de função - retorno mais de uma variável\n",
        "print(\"Programa com exemplo para função que retorna mais de uma variável.\")\n",
        "def powers(x):\n",
        " #Retorna o quadrado, o cubo e a quarta potência de um dado número x.\"\"\"\n",
        " return x ** 2, x ** 3, x ** 4\n",
        "print(powers(2))\n",
        "x2, x3, x4 = powers(3)\n",
        "print(\"x2=\",x2,\" x3=\",x3,\"x4=\", x4)"
      ]
    },
    {
      "cell_type": "markdown",
      "metadata": {
        "id": "tgOHrAK5Wt0p"
      },
      "source": [
        "### Lembrete:\n",
        "- Não se esqueça, na definição de uma função, podemos dar defaults nos argumentos da função"
      ]
    },
    {
      "cell_type": "code",
      "execution_count": null,
      "metadata": {
        "id": "QfaJ0Xy4Wt0q",
        "colab": {
          "base_uri": "https://localhost:8080/"
        },
        "outputId": "4a62b94c-d110-42b3-88e7-5dd948f511b2"
      },
      "outputs": [
        {
          "output_type": "stream",
          "name": "stdout",
          "text": [
            "Exemplo de uso de função com parámetros 'default'\n",
            "25\n",
            "Mensagem do módulo debug da função myfunc para x = 5 elevado 2\n",
            "25\n",
            "Mensagem do módulo debug da função myfunc para x = 5 elevado 3\n",
            "125\n",
            "125\n",
            "Mensagem do módulo debug da função myfunc para x = 5 elevado 3\n",
            "125\n",
            "125\n"
          ]
        }
      ],
      "source": [
        "# Exemplo de função - Valores Default em função\n",
        "\n",
        "print(\"Exemplo de uso de função com parámetros 'default'\")\n",
        "\n",
        "def myfunc(x, p=2, debug=False):\n",
        "  if debug:\n",
        "   print(\"Mensagem do módulo debug da função myfunc para x = \" + str(x) + \" elevado \" + str(p))\n",
        "  return x**p\n",
        "\n",
        "print(myfunc(5))\n",
        "print(myfunc(5, debug=True))\n",
        "print(myfunc(p=3, debug=True, x=5))\n",
        "print(myfunc(5, 3))\n",
        "print(myfunc(5, 3, True))\n",
        "print(myfunc(5, 3, False))"
      ]
    },
    {
      "cell_type": "markdown",
      "metadata": {
        "id": "tBHnBBaVWt0s"
      },
      "source": [
        "### Aspectos Avançados:\n",
        "Em Python, também podemos criar funções sem nome, usando a palavra-chave lambda:\n",
        "\n",
        "- nome_da_funcao  = lambda <parametro>: comandos"
      ]
    },
    {
      "cell_type": "code",
      "execution_count": null,
      "metadata": {
        "id": "WNXRTXmIWt0s"
      },
      "outputs": [],
      "source": [
        "# Exemplo de uso de função sem nome - Lambda Function\n",
        "# f1 e f2 são equivalentes\n",
        "\n",
        "f1 = lambda x: x**2\n",
        "\n",
        "\n",
        "def f2(x):\n",
        " return x**2"
      ]
    },
    {
      "cell_type": "code",
      "execution_count": null,
      "metadata": {
        "id": "VZIqA7fJWt0u",
        "colab": {
          "base_uri": "https://localhost:8080/"
        },
        "outputId": "2d35a9a9-e412-4687-d873-10c6b80ee97b"
      },
      "outputs": [
        {
          "output_type": "execute_result",
          "data": {
            "text/plain": [
              "(4, 4)"
            ]
          },
          "metadata": {},
          "execution_count": 77
        }
      ],
      "source": [
        "f1(2), f2(2)"
      ]
    },
    {
      "cell_type": "markdown",
      "metadata": {
        "id": "HhGdphHsWt0v"
      },
      "source": [
        "### Nota:\n",
        "Esta técnica é útil, por exemplo, quando queremos passar uma única função como um argumento para outra Função.\n",
        "\n",
        "Considere a função map(f, s), que aplica a função f para todos os elementos da sequência s. "
      ]
    },
    {
      "cell_type": "code",
      "execution_count": 24,
      "metadata": {
        "id": "46v_HTu3Wt0w",
        "colab": {
          "base_uri": "https://localhost:8080/"
        },
        "outputId": "0cbd1980-9f0d-4997-c4bd-5e06dc3e86f2"
      },
      "outputs": [
        {
          "output_type": "execute_result",
          "data": {
            "text/plain": [
              "[9, 4, 1, 0, 1, 4, 9]"
            ]
          },
          "metadata": {},
          "execution_count": 24
        }
      ],
      "source": [
        "# Exemplo de uso da função map(),que retorna um objeto genérico\n",
        "def f(x):\n",
        "    return (x ** 2)\n",
        "lista2 = map(f, range (-3,4))\n",
        "list(lista2)"
      ]
    },
    {
      "cell_type": "code",
      "execution_count": 25,
      "metadata": {
        "id": "mldCDACfWt01",
        "colab": {
          "base_uri": "https://localhost:8080/"
        },
        "outputId": "c8c222b5-da05-40c6-a0b9-7ff903c122fa"
      },
      "outputs": [
        {
          "output_type": "execute_result",
          "data": {
            "text/plain": [
              "[9, 4, 1, 0, 1, 4, 9]"
            ]
          },
          "metadata": {},
          "execution_count": 25
        }
      ],
      "source": [
        "# Exemplo de uso da função map() com função anônima - lambda\n",
        "lista3 = map(lambda x: x**2, range(-3,4))\n",
        "list(lista3)"
      ]
    },
    {
      "cell_type": "markdown",
      "metadata": {
        "id": "C-zOKft7Wt02"
      },
      "source": [
        "## Classes e Objetos em Python:\n",
        "\n",
        "- As classes são as principais características da programação orientada a objetos. \n",
        "- Uma classe é uma estrutura para representar um objeto e as operações que podem ser realizadas sobre ele. Assim, uma classe pode conter atributos (variáveis) e métodos (funções).\n",
        "- Uma classe é definida quase como uma função, mas usando a palavra-chave  \"classe\".\n",
        "- A definição da classe geralmente contém uma série de método de classe (uma função em uma classe).\n",
        "- Cada método de classe deve ter um argumento denominado de \"self\" como primeiro argumento. Isto é uma auto-referência ao objeto.\n",
        "- Alguns nomes de métodos de classe têm um significado especial, por exemplo:\n",
        "    - _init_: construtor da classe - O nome do método que é invocado quando o primeiro objeto é criado.\n",
        "    - _str_: Um método que é invocado quando uma representação de uma string da classe é necessária, como, por exemplo, quando deseja-se usar um print()."
      ]
    },
    {
      "cell_type": "markdown",
      "metadata": {
        "id": "wAVnHKOSBNZj"
      },
      "source": [
        "## Classes - Estrutura Básica\n",
        "\n",
        "class Nome_da_Classe (Classe_Pai):\n",
        "            atributo_1\n",
        "            ...\n",
        "            atributo_n\n",
        "            \n",
        "            # ----- método construtor  -----\n",
        "            def _init_(self, par1, par2, ...):\n",
        "            \n",
        "            #  ---- outros métodos    -------\n",
        "            \n",
        "            def metodo_1(self, par1, ...):\n",
        "                 ...\n",
        "            \n",
        "            def metodo_m(self, parX, ...):     \n",
        "            \n",
        "            "
      ]
    },
    {
      "cell_type": "markdown",
      "metadata": {
        "id": "D0DxqENtCarL"
      },
      "source": [
        "###  Usando a Classe\n",
        " - Neste caso, usa-se a prórpia classe"
      ]
    },
    {
      "cell_type": "code",
      "execution_count": null,
      "metadata": {
        "id": "IcB-mmqQCurV",
        "colab": {
          "base_uri": "https://localhost:8080/"
        },
        "outputId": "348d08e1-147f-4786-d212-e117acc2f00e"
      },
      "outputs": [
        {
          "output_type": "stream",
          "name": "stdout",
          "text": [
            "novo\n",
            "usado\n",
            "muito velho\n"
          ]
        }
      ],
      "source": [
        "# Exemplo de Classe\n",
        "\n",
        "# Definição da Classe Carro\n",
        "# A classe Pai é Object - no caso pode ser omitida\n",
        "# estado é um atributo da classe Carro\n",
        "\n",
        "class Carro(object):\n",
        "   estado = \"novo\" \n",
        "\n",
        "print(Carro.estado)\n",
        "\n",
        "Carro.estado = \"usado\"\n",
        "\n",
        "print(Carro.estado)\n",
        "\n",
        "Carro.estado = \"muito velho\"\n",
        "\n",
        "print(Carro.estado)"
      ]
    },
    {
      "cell_type": "markdown",
      "metadata": {
        "id": "q9pYiGr_DJma"
      },
      "source": [
        "###  Usando a Classe\n",
        " - Neste caso, usa-se uma instância (objeto) da classe"
      ]
    },
    {
      "cell_type": "code",
      "execution_count": 26,
      "metadata": {
        "id": "uFy9dje-QSwZ",
        "colab": {
          "base_uri": "https://localhost:8080/"
        },
        "outputId": "b3cbe259-d13a-49a4-f970-0e0f6a489e1e"
      },
      "outputs": [
        {
          "output_type": "stream",
          "name": "stdout",
          "text": [
            "novo\n",
            "usado\n",
            "branco\n",
            "Bege\n"
          ]
        }
      ],
      "source": [
        "# Exemplo de Classe e Objeto\n",
        "\n",
        "# Classe Carro\n",
        "\n",
        "class Carro(object):\n",
        "    # listas de características\n",
        "    estado = \"novo\"\n",
        "    cor = \"branco\"\n",
        "    \n",
        "\n",
        "    def usar(self):\n",
        "        self.estado = \"usado\"\n",
        "\n",
        "    def pintar(self):\n",
        "        self.cor = \"Bege\"\n",
        "       \n",
        "meu_fusca = Carro()   # criação do objeto meu_fusca da classe Carro\n",
        "\n",
        "chevete_da_bel = Carro()\n",
        "mustang_da_veronica = Carro()\n",
        "\n",
        "print(meu_fusca.estado) \n",
        "meu_fusca.usar()\n",
        "print(meu_fusca.estado) \n",
        "\n",
        "print(chevete_da_bel.cor) \n",
        "chevete_da_bel.pintar()\n",
        "print(chevete_da_bel.cor) "
      ]
    },
    {
      "cell_type": "markdown",
      "metadata": {
        "id": "6VAekPv9SBeV"
      },
      "source": [
        "### Dúvida:\n",
        "O que ocorreria se não se usar a referência self no método usar()?"
      ]
    },
    {
      "cell_type": "markdown",
      "metadata": {
        "id": "xNMHBelfS7CN"
      },
      "source": [
        "### Exercício:\n",
        "- Inclua o atributo cor na classe Carro, com valor inicial \"branco\"\n",
        "- implemente os métodos\n",
        "    -  cor pegaCor() \n",
        "    - pintaCarro(\"cor\")"
      ]
    },
    {
      "cell_type": "code",
      "execution_count": null,
      "metadata": {
        "id": "8wthAipaTgXJ",
        "colab": {
          "base_uri": "https://localhost:8080/"
        },
        "outputId": "f5ca5ee2-1403-4901-e42b-48e55dde81e4"
      },
      "outputs": [
        {
          "output_type": "stream",
          "name": "stdout",
          "text": [
            "novo\n",
            "usado\n",
            "A cor do carro é:  branco\n",
            "A cor do carro é:  Azul\n"
          ]
        }
      ],
      "source": [
        "# Exemplo de Classe e Objeto\n",
        "# Implemente o atributo cor\n",
        "# implemente os métodos pegaCor() e pintaCarro(cor)\n",
        "\n",
        "\n",
        "# Classe Carro\n",
        "\n",
        "class Carro(object):\n",
        "    \n",
        "    estado = \"novo\"\n",
        "    cor = \"branco\"\n",
        "   \n",
        "    def usar(self):\n",
        "        self.estado = \"usado\"\n",
        "\n",
        "    def pegaCor(self):\n",
        "        return(self.cor)\n",
        "    \n",
        "    def pintaCarro(self,nova_cor):\n",
        "        self.cor = nova_cor\n",
        "       \n",
        "meu_fusca = Carro()   # criação do objeto meu_fusca da classe Carro\n",
        "\n",
        "print(meu_fusca.estado) \n",
        "meu_fusca.usar()\n",
        "print(meu_fusca.estado)\n",
        "\n",
        "print(\"A cor do carro é: \", meu_fusca.pegaCor())\n",
        "\n",
        "meu_fusca.pintaCarro(\"Azul\")\n",
        "print(\"A cor do carro é: \", meu_fusca.pegaCor())"
      ]
    },
    {
      "cell_type": "markdown",
      "metadata": {
        "id": "-W6euX-EUsgY"
      },
      "source": [
        "### Classe - Usando o método construtor __init__(self, ...)"
      ]
    },
    {
      "cell_type": "code",
      "execution_count": null,
      "metadata": {
        "id": "Px0_JfVvUzmX",
        "colab": {
          "base_uri": "https://localhost:8080/"
        },
        "outputId": "c721de36-8f63-472c-c8a6-ebff7656fbd7"
      },
      "outputs": [
        {
          "output_type": "stream",
          "name": "stdout",
          "text": [
            "semi-novo\n"
          ]
        }
      ],
      "source": [
        "class Carro(object):\n",
        "    def __init__(self, estado):\n",
        "        self.estado = estado\n",
        "\n",
        "bmw = Carro('semi-novo')\n",
        "print(bmw.estado) "
      ]
    },
    {
      "cell_type": "markdown",
      "metadata": {
        "id": "II_aU6urVr37"
      },
      "source": [
        "### Exercício\n",
        "Implemente a classe Carro com 03 métodos construtor\n",
        "- __init(self)\n",
        "- __init(self, estado)\n",
        "- __init(self, estado, cor)\n",
        "\n",
        "- crie um fusca sem cor e estado\n",
        "- crie um opala branco usado\n",
        "- crie uma ferrari vermelha nova\n"
      ]
    },
    {
      "cell_type": "code",
      "execution_count": null,
      "metadata": {
        "id": "rSTxBcecWO9S",
        "colab": {
          "base_uri": "https://localhost:8080/"
        },
        "outputId": "cdef2372-27d6-4ca7-aa48-ea490bf108a8"
      },
      "outputs": [
        {
          "output_type": "stream",
          "name": "stdout",
          "text": [
            "Semi-novo\n",
            "usado\n"
          ]
        }
      ],
      "source": [
        "# Exemplo de Classe e Objeto\n",
        "# Impleme os 03 métodos construtures\n",
        "\n",
        "\n",
        "\n",
        "# Classe Carro\n",
        "\n",
        "class Carro(object):\n",
        "    \n",
        "    #estado = \"kkk\"\n",
        "    \n",
        "    #  --- primeiro método construtor  ------\n",
        "    def __init__(self):\n",
        "        self.estado = \"novo\"\n",
        "        self.cor = \"branco\"\n",
        "\n",
        "    # --- segundo método construtor  -------\n",
        "    def __init__(self, estado):\n",
        "        self.estado = estado\n",
        "    \n",
        "    #  --- terceiro método construtor  ------\n",
        "    def __init__(self, estado, cor):\n",
        "        self.estado = estado\n",
        "        self.cor = cor\n",
        "    \n",
        "    \n",
        "    # --- outros métodos  ----\n",
        "    \n",
        "    def pegarCor(self):\n",
        "        return(self.cor)\n",
        "    \n",
        "    def usar(self):\n",
        "        self.estado = \"usado\"\n",
        "            \n",
        "    def pintarCarro(self, cor):\n",
        "        self.cor = cor\n",
        "\n",
        "        \n",
        "        \n",
        "       \n",
        "meu_fusca = Carro(\"Semi-novo\", \"Preto\")   # criação do objeto meu_fusca da classe Carro\n",
        "\n",
        "print(meu_fusca.estado) \n",
        "meu_fusca.usar()\n",
        "print(meu_fusca.estado)\n",
        "\n",
        "#print(\"A cor do carro é: \", meu_fusca.pegaCor())\n",
        "\n",
        "#meu_fusca.pintaCarro(\"Azul\")\n",
        "#print(\"A cor do carro é: \", meu_fusca.pegaCor())\n",
        "\n",
        "meu_opala = Carro(\"Semi-novo\", \"Azul marinho\")\n",
        "minha_ferrari = Carro(\"Usado\", \"vermelha\")\n",
        "\n",
        "# - complete o programa usando a Ferrari e pintando "
      ]
    },
    {
      "cell_type": "markdown",
      "metadata": {
        "id": "xH0luhrVVFO6"
      },
      "source": [
        "### Classe - Criando herança de classes"
      ]
    },
    {
      "cell_type": "code",
      "execution_count": 40,
      "metadata": {
        "id": "MbO7HxElaSPA",
        "colab": {
          "base_uri": "https://localhost:8080/"
        },
        "outputId": "5586ecc1-3585-4095-d8de-8f207be985da"
      },
      "outputs": [
        {
          "output_type": "stream",
          "name": "stdout",
          "text": [
            "novo\n",
            "uber\n"
          ]
        }
      ],
      "source": [
        "# -- Classe Taxi, derivada da Classe Carro\n",
        "# ---- Herda todos os atributos e métodos da Classe Pai\n",
        "\n",
        "class Carro_de_Aplicativo(Carro):\n",
        " tipo = \"uber\"\n",
        "  \n",
        "carro1 = Carro_de_Aplicativo() \n",
        "print(carro1.estado)\n",
        "print(carro1.tipo)"
      ]
    },
    {
      "cell_type": "markdown",
      "metadata": {
        "id": "yGeMRYO7ciI5"
      },
      "source": [
        "### Outro exemplo de uso de Classe e Objetos"
      ]
    },
    {
      "cell_type": "code",
      "execution_count": 41,
      "metadata": {
        "id": "NJW2pL1wWt02"
      },
      "outputs": [],
      "source": [
        "# Criação da Classe Ponto\n",
        "class Ponto:  \n",
        " def __init__(self, x, y):\n",
        "  self.x = x\n",
        "  self.y = y\n",
        "  \n",
        " \n",
        " def translacao(self, dx, dy):\n",
        "  self.x += dx\n",
        "  self.y += dy\n",
        "    \n",
        " def __str__(self):\n",
        "  return(\"O ponto está no posição [%f, %f]\" % (self.x, self.y))"
      ]
    },
    {
      "cell_type": "code",
      "execution_count": 42,
      "metadata": {
        "id": "wKgwARmsWt09",
        "colab": {
          "base_uri": "https://localhost:8080/"
        },
        "outputId": "90cf71ce-fa9c-4830-f32a-b50c9ee408bd"
      },
      "outputs": [
        {
          "output_type": "stream",
          "name": "stdout",
          "text": [
            "O ponto está no posição [0.000000, 0.000000]\n"
          ]
        }
      ],
      "source": [
        "# Criação de um objeto p1 da classe Ponto \n",
        "p1 = Ponto(0, 0) \n",
        "print(p1)"
      ]
    },
    {
      "cell_type": "code",
      "execution_count": 43,
      "metadata": {
        "id": "XkZggTv3Wt0_",
        "colab": {
          "base_uri": "https://localhost:8080/"
        },
        "outputId": "da82a009-eade-4b9a-e84b-81c759f6f0f6"
      },
      "outputs": [
        {
          "output_type": "stream",
          "name": "stdout",
          "text": [
            "O ponto está no posição [0.250000, 1.500000]\n",
            "O ponto está no posição [1.000000, 1.000000]\n",
            "0.25 1.5\n",
            "1 1\n"
          ]
        }
      ],
      "source": [
        "p2 = Ponto(1, 1)\n",
        "p1.translacao(0.25, 1.5)\n",
        "print(p1)\n",
        "print(p2)\n",
        "print(p1.x, p1.y)\n",
        "print(p2.x, p2.y)"
      ]
    },
    {
      "cell_type": "code",
      "execution_count": 44,
      "metadata": {
        "id": "AxekF2BBWt1C"
      },
      "outputs": [],
      "source": [
        "# Exercício - inclua os seguintes métodos na Classe Ponto\n",
        "# rotacao(angulo_em_radiano), sem retorno\n",
        "# distancia(Ponto ponto1), retorna a distância do ponto dado (parâmetro) ao ponto\n",
        "import math \n",
        "\n",
        "class Ponto:  \n",
        " def __init__(self, x, y):\n",
        "  self.x = x\n",
        "  self.y = y\n",
        "  \n",
        " def translacao(self, dx, dy):\n",
        "  self.x += dx\n",
        "  self.y += dy\n",
        "\n",
        " def rotacao(self, angulo_em_radiano):\n",
        "   self.angulo += angulo_em_radiano\n",
        "  \n",
        " def distancia(self, ponto2):\n",
        "   a = ponto2.x - self.x\n",
        "   b = ponto2.y - self.y\n",
        "   c = math.sqrt(math.pow(a, 2) + math.pow(b, 2))\n",
        "   return c\n",
        "\n",
        " def __str__(self):\n",
        "  return(\"O ponto está no posição [%f, %f]\" % (self.x, self.y))\n"
      ]
    },
    {
      "cell_type": "code",
      "source": [
        "p1 = Ponto(2, 3)\n",
        "p2 = Ponto(4, 5 )\n",
        "d = p1.distancia(p2)\n",
        "print(d)"
      ],
      "metadata": {
        "colab": {
          "base_uri": "https://localhost:8080/"
        },
        "id": "MxJtG3-i4P_K",
        "outputId": "581cc46e-57ed-40a4-e4a7-3b5712239c09"
      },
      "execution_count": 45,
      "outputs": [
        {
          "output_type": "stream",
          "name": "stdout",
          "text": [
            "2.8284271247461903\n"
          ]
        }
      ]
    },
    {
      "cell_type": "markdown",
      "metadata": {
        "id": "n-T2RSk7ycz6"
      },
      "source": [
        "### Exemplo de Uso de Classe e Objetos:\n",
        "Defina uma classe denominada Pessoa, com os atributos:\n",
        "- Nome, Idade\n",
        "\n",
        "E os métodos:\n",
        "- setNome(nome)\n",
        "- setIdade(idade)\n",
        "- getNome()\n",
        "- getIdade()\n"
      ]
    },
    {
      "cell_type": "code",
      "execution_count": 46,
      "metadata": {
        "id": "AGvRIlwO0Y34"
      },
      "outputs": [],
      "source": [
        "# Definição da classe Pessoa\n",
        "class Pessoa:\n",
        "\n",
        "    def __init__(self, nome, idade):\n",
        "        self.nome = nome\n",
        "        self.idade = idade\n",
        "\n",
        "    def setNome(self, nome):\n",
        "       self.nome = nome \n",
        "    \n",
        "    def setIdade(self, idade):\n",
        "      self.idade = idade\n",
        "\n",
        "    def getNome():\n",
        "        return Pessoa.nome \n",
        "    \n",
        "    def getIdade():\n",
        "      return Pessoa.idade"
      ]
    },
    {
      "cell_type": "markdown",
      "metadata": {
        "id": "c3cCTggcc24G"
      },
      "source": [
        "### Exercício\n",
        "- Implemente a Classe Motorista como extensão da classe Pessoa com o atributo Carro\n",
        "  - Um Motorista é uma Pessoa que tem um Carro "
      ]
    },
    {
      "cell_type": "code",
      "execution_count": 47,
      "metadata": {
        "id": "Jf_AvRnWdKab"
      },
      "outputs": [],
      "source": [
        "# Definição da Classe Motorista\n",
        "class Motorista(Pessoa):\n",
        "    carro = Carro()\n",
        "\n",
        "    def __init__(self, carro):\n",
        "        self.carro = carro"
      ]
    },
    {
      "cell_type": "code",
      "execution_count": 54,
      "metadata": {
        "id": "UuF-PY9DdioR",
        "colab": {
          "base_uri": "https://localhost:8080/"
        },
        "outputId": "95be60ce-67e2-4465-9f93-4f0842bbbc33"
      },
      "outputs": [
        {
          "output_type": "stream",
          "name": "stdout",
          "text": [
            "Maria com 25 anos de idade dirige um Gol Usado de cor Azul\n"
          ]
        }
      ],
      "source": [
        "# Programa que cria um objeto do tipo Motorista\n",
        "# Nome: Maria\n",
        "# Idade: 25\n",
        "# carro: Gol, Azul, Usado\n",
        "pessoa = Pessoa(\"Maria\", 25)\n",
        "\n",
        "motorista = Motorista(maria)\n",
        "#otorista.setNome = \"Maria\"\n",
        "#motorista.setIdade = 25\n",
        "motorista.carro.nome = \"Gol\"\n",
        "motorista.carro.estado = \"Usado\"\n",
        "motorista.carro.cor = \"Azul\"\n",
        "\n",
        "print( f\"{pessoa.nome} com {pessoa.idade} anos de idade dirige um {motorista.carro.nome} {motorista.carro.estado} de cor {motorista.carro.cor}\" )\n"
      ]
    },
    {
      "cell_type": "markdown",
      "metadata": {
        "id": "Kle7uEbSWt1F"
      },
      "source": [
        "## Tipo de Dado Dicionário em Python\n",
        "\n",
        "- Dicionário é um tipo de coleção, como lista, porém poderem usar qualquer tipo imutavel de dados como indice.Isto é feito a partir de uma chave, que pode ser qualquer tipo imutável, para um valor, que pode ser qualquer objeto de dados do Python.\n",
        "- Uma maneira de criar um dicionario é comecando com um dicionário vazio e depois adiconar elementos. Um dicionário vazio é denotado assim {}:"
      ]
    },
    {
      "cell_type": "code",
      "execution_count": 55,
      "metadata": {
        "id": "3SpojpuoWt1F",
        "colab": {
          "base_uri": "https://localhost:8080/"
        },
        "outputId": "5f74cd5b-ebd4-4392-986b-efbd5e2ea3ab"
      },
      "outputs": [
        {
          "output_type": "execute_result",
          "data": {
            "text/plain": [
              "{'um': 'one', 'dois': 'two'}"
            ]
          },
          "metadata": {},
          "execution_count": 55
        }
      ],
      "source": [
        "# Exemplo: dicionário de Portugues para Ingles\n",
        "\n",
        "por_Para_ing = {}    # início do dicionário\n",
        "por_Para_ing['um'] = 'one'\n",
        "por_Para_ing['dois'] = 'two'\n",
        "por_Para_ing"
      ]
    },
    {
      "cell_type": "code",
      "execution_count": 56,
      "metadata": {
        "id": "4rTHX445Wt1N",
        "colab": {
          "base_uri": "https://localhost:8080/",
          "height": 35
        },
        "outputId": "6718f794-67ce-40b5-8d2a-ceb0034f5d37"
      },
      "outputs": [
        {
          "output_type": "execute_result",
          "data": {
            "text/plain": [
              "'one'"
            ],
            "application/vnd.google.colaboratory.intrinsic+json": {
              "type": "string"
            }
          },
          "metadata": {},
          "execution_count": 56
        }
      ],
      "source": [
        "por_Para_ing['um']"
      ]
    },
    {
      "cell_type": "code",
      "execution_count": 57,
      "metadata": {
        "id": "oUcC9WirWt1R",
        "colab": {
          "base_uri": "https://localhost:8080/"
        },
        "outputId": "6669d87b-6fa7-4ab7-e1df-0e51c1d2f699"
      },
      "outputs": [
        {
          "output_type": "execute_result",
          "data": {
            "text/plain": [
              "{'um': 'one', 'dois': 'two', 'três': 'three'}"
            ]
          },
          "metadata": {},
          "execution_count": 57
        }
      ],
      "source": [
        "por_Para_ing['três'] = 'three'\n",
        "por_Para_ing"
      ]
    },
    {
      "cell_type": "code",
      "execution_count": 58,
      "metadata": {
        "id": "RGPo1rPBWt1S",
        "colab": {
          "base_uri": "https://localhost:8080/"
        },
        "outputId": "ecfd333b-dc24-47ee-dccf-3d7823e9bcaa"
      },
      "outputs": [
        {
          "output_type": "execute_result",
          "data": {
            "text/plain": [
              "{'one': 'um', 'two': 'dois', 'three': 'três'}"
            ]
          },
          "metadata": {},
          "execution_count": 58
        }
      ],
      "source": [
        "# Exemplo: dicionário de Portugues para Ingles\n",
        "ing_Para_por = {'one': 'um', 'two': 'dois', 'three': 'três'}\n",
        "ing_Para_por"
      ]
    },
    {
      "cell_type": "code",
      "execution_count": 60,
      "metadata": {
        "id": "_d7f34GsWt1W"
      },
      "outputs": [],
      "source": [
        "# Comandos\n",
        "#- del       Remove um par chave-valor de um dicionário\n",
        "#- len       Retorna a quantidade de itens"
      ]
    },
    {
      "cell_type": "code",
      "execution_count": 61,
      "metadata": {
        "id": "NjBn5V4FWt1Z",
        "colab": {
          "base_uri": "https://localhost:8080/"
        },
        "outputId": "6b051cbf-d649-4a8d-bc44-d4f7f1dddb59"
      },
      "outputs": [
        {
          "output_type": "execute_result",
          "data": {
            "text/plain": [
              "3"
            ]
          },
          "metadata": {},
          "execution_count": 61
        }
      ],
      "source": [
        "len(ing_Para_por)"
      ]
    },
    {
      "cell_type": "code",
      "execution_count": 62,
      "metadata": {
        "id": "mAPoJ4oEWt1c",
        "colab": {
          "base_uri": "https://localhost:8080/"
        },
        "outputId": "5f7cb99a-934f-418b-88fb-acba48333271"
      },
      "outputs": [
        {
          "output_type": "execute_result",
          "data": {
            "text/plain": [
              "{'one': 'um', 'two': 'dois', 'three': 'três'}"
            ]
          },
          "metadata": {},
          "execution_count": 62
        }
      ],
      "source": [
        "ing_Para_por"
      ]
    },
    {
      "cell_type": "code",
      "execution_count": 63,
      "metadata": {
        "id": "TmCGMKPGWt1h",
        "colab": {
          "base_uri": "https://localhost:8080/"
        },
        "outputId": "72f9c7c2-b827-44ea-ec40-da55efe2a48e"
      },
      "outputs": [
        {
          "output_type": "execute_result",
          "data": {
            "text/plain": [
              "{'one': 'um', 'two': 'dois'}"
            ]
          },
          "metadata": {},
          "execution_count": 63
        }
      ],
      "source": [
        "del(ing_Para_por['three'])\n",
        "ing_Para_por"
      ]
    },
    {
      "cell_type": "markdown",
      "metadata": {
        "id": "HfIAIH-vWt1k"
      },
      "source": [
        "### Lembrete:\n",
        "Dicionários possuem vários métodos nativos úteis.\n",
        "\n",
        "    - keys()  \t \tRetorna uma vista das chaves no dicionário\n",
        "    - values()  \tRetorna uma vista dos valores no dicionário\n",
        "    - items() \t  Retorna uma vista dos pares chave-valor no dicionário\n",
        "    - get(key) \t  Retorna o valor associado com a chave; ou None\n",
        "    - items()     Retorna os dois valores, na forma de uma lista de tuplas - cada tupla com um par chave-valor    "
      ]
    },
    {
      "cell_type": "code",
      "execution_count": 64,
      "metadata": {
        "id": "cKhNJufYWt1k",
        "colab": {
          "base_uri": "https://localhost:8080/"
        },
        "outputId": "722087d2-de41-4753-b859-8c70fa78cfc4"
      },
      "outputs": [
        {
          "output_type": "execute_result",
          "data": {
            "text/plain": [
              "dict_keys(['um', 'dois', 'três'])"
            ]
          },
          "metadata": {},
          "execution_count": 64
        }
      ],
      "source": [
        "por_Para_ing.keys()"
      ]
    },
    {
      "cell_type": "code",
      "execution_count": 65,
      "metadata": {
        "id": "YV4uD45iWt1m",
        "colab": {
          "base_uri": "https://localhost:8080/"
        },
        "outputId": "70e76e66-6293-4b9a-cd42-7a24d7f0ae7e"
      },
      "outputs": [
        {
          "output_type": "execute_result",
          "data": {
            "text/plain": [
              "dict_values(['one', 'two', 'three'])"
            ]
          },
          "metadata": {},
          "execution_count": 65
        }
      ],
      "source": [
        "por_Para_ing.values()"
      ]
    },
    {
      "cell_type": "code",
      "execution_count": 66,
      "metadata": {
        "id": "vU7D4L4SWt1p",
        "colab": {
          "base_uri": "https://localhost:8080/",
          "height": 35
        },
        "outputId": "af1040f6-627e-43a7-b52e-97380db1d6c3"
      },
      "outputs": [
        {
          "output_type": "execute_result",
          "data": {
            "text/plain": [
              "'one'"
            ],
            "application/vnd.google.colaboratory.intrinsic+json": {
              "type": "string"
            }
          },
          "metadata": {},
          "execution_count": 66
        }
      ],
      "source": [
        "por_Para_ing.get('um')"
      ]
    },
    {
      "cell_type": "code",
      "execution_count": 67,
      "metadata": {
        "id": "4EAR5dc2Wt1u"
      },
      "outputs": [],
      "source": [
        "# Exemplo de uso de dicionários\n",
        "inventario = {'abacaxis': 430, 'bananas': 312, 'laranjas': 525, 'peras': 217}"
      ]
    },
    {
      "cell_type": "code",
      "execution_count": 68,
      "metadata": {
        "id": "sEOaoz94Wt1x",
        "colab": {
          "base_uri": "https://localhost:8080/"
        },
        "outputId": "6a793c33-20fd-4b10-ea85-c59e16dcf137"
      },
      "outputs": [
        {
          "output_type": "execute_result",
          "data": {
            "text/plain": [
              "{'abacaxis': 430, 'bananas': 312, 'laranjas': 525, 'peras': 217}"
            ]
          },
          "metadata": {},
          "execution_count": 68
        }
      ],
      "source": [
        "inventario"
      ]
    },
    {
      "cell_type": "code",
      "execution_count": 69,
      "metadata": {
        "id": "bxd1l98-Wt12"
      },
      "outputs": [],
      "source": [
        "inventario['bananas'] = 311"
      ]
    },
    {
      "cell_type": "code",
      "execution_count": 70,
      "metadata": {
        "id": "gmq3Y9BEWt14",
        "colab": {
          "base_uri": "https://localhost:8080/"
        },
        "outputId": "df146da2-8079-438d-88c8-bd73b6230333"
      },
      "outputs": [
        {
          "output_type": "execute_result",
          "data": {
            "text/plain": [
              "{'abacaxis': 430, 'bananas': 311, 'laranjas': 525, 'peras': 217}"
            ]
          },
          "metadata": {},
          "execution_count": 70
        }
      ],
      "source": [
        "inventario"
      ]
    },
    {
      "cell_type": "code",
      "execution_count": 71,
      "metadata": {
        "id": "dWsv8oWEWt18"
      },
      "outputs": [],
      "source": [
        "# Exemplo de uso de Dicionário\n",
        "aluno = {\n",
        "    \"nome\": \"joao\",\n",
        "    \"matricula\": 2015200101,\n",
        "    \"idade\": 39,\n",
        "    \"habilidades\": ['python', 'java', 'c/c++']\n",
        "}"
      ]
    },
    {
      "cell_type": "code",
      "execution_count": 72,
      "metadata": {
        "id": "m04bJ8P8Wt2B",
        "colab": {
          "base_uri": "https://localhost:8080/"
        },
        "outputId": "154df694-8c67-472d-8733-b11ee9964d08"
      },
      "outputs": [
        {
          "output_type": "stream",
          "name": "stdout",
          "text": [
            "joao\n",
            "39\n",
            "['python', 'java', 'c/c++']\n"
          ]
        }
      ],
      "source": [
        "print(aluno['nome'])\n",
        "print(aluno['idade'])\n",
        "print (aluno['habilidades'])"
      ]
    },
    {
      "cell_type": "markdown",
      "metadata": {
        "id": "rqhnVkC_Wt2K"
      },
      "source": [
        "## Criação de Módulo em Python\n",
        "\n",
        "- Um dos conceitos mais importantes na boa programação é reutilizar o código e evitar repetições.\n",
        "- A idéia é escrever funções e classes com um propósito e um escopo bem definidos e reutilizá-los em vez de repetir código similar em uma parte diferente de um programa (programação modular). O resultado é geralmente que a legibilidade e a manutenção de um programa são muito melhoradas. O que isso significa na prática é que nossos programas têm menos erros, são mais fáceis de estender e depurar / solucionar problemas.\n",
        "- O Python suporta programação modular em diferentes níveis. Funções e classes são exemplos de ferramentas para programação modular de baixo nível. Os módulos Python são uma construção de programação modular de nível superior, onde podemos coletar variáveis, funções e classes relacionadas em um módulo.\n",
        "- Um módulo python é definido em um arquivo python (com o ponto final do arquivo .py) e pode ser acessível a outros módulos e programas Python usando a instrução import."
      ]
    },
    {
      "cell_type": "code",
      "execution_count": 72,
      "metadata": {
        "id": "rBhpXHYIWt2L"
      },
      "outputs": [],
      "source": []
    },
    {
      "cell_type": "markdown",
      "metadata": {
        "id": "RDvQON6Qi4zV"
      },
      "source": [
        "# Este Notebook está em constante construção\n",
        "data: 05/04/2023."
      ]
    }
  ],
  "metadata": {
    "colab": {
      "provenance": [],
      "include_colab_link": true
    },
    "kernelspec": {
      "display_name": "Python 3",
      "language": "python",
      "name": "python3"
    }
  },
  "nbformat": 4,
  "nbformat_minor": 0
}